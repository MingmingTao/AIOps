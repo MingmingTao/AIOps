{
 "cells": [
  {
   "cell_type": "code",
   "execution_count": 11,
   "metadata": {},
   "outputs": [],
   "source": [
    "import torch\n",
    "from torch.nn import CrossEntropyLoss\n",
    "\n",
    "from implementation.util.Trainer import Trainer\n",
    "from implementation.util.KPIDataset import KPIDataset\n",
    "from implementation.models.FullyConnected import FullyConnected"
   ]
  },
  {
   "cell_type": "code",
   "execution_count": 4,
   "metadata": {},
   "outputs": [],
   "source": [
    "dataset = KPIDataset('../data/train_norm.csv', seq_length=31, step_width=1)"
   ]
  },
  {
   "cell_type": "code",
   "execution_count": 5,
   "metadata": {},
   "outputs": [],
   "source": [
    "model = FullyConnected(31)"
   ]
  },
  {
   "cell_type": "code",
   "execution_count": null,
   "metadata": {},
   "outputs": [],
   "source": [
    "# test\n",
    "model(torch.from_numpy(dataset.__getitem__(0)[0]))"
   ]
  },
  {
   "cell_type": "code",
   "execution_count": 12,
   "metadata": {},
   "outputs": [],
   "source": [
    "trainer = Trainer(model, dataset, batch_size=4096, epochs=2, log_nth=10, loss_func=CrossEntropyLoss(weight=torch.tensor([1, 45.28])))"
   ]
  },
  {
   "cell_type": "code",
   "execution_count": 13,
   "metadata": {},
   "outputs": [
    {
     "name": "stdout",
     "output_type": "stream",
     "text": [
      "Start training...\n",
      "[EPOCH 0 BATCH 0/483] TRAIN LOSS: 9.276450157165527\n",
      "[EPOCH 0 BATCH 10/483] TRAIN LOSS: 5.943539142608643\n",
      "[EPOCH 0 BATCH 20/483] TRAIN LOSS: 2.3654708862304688\n",
      "[EPOCH 0 BATCH 30/483] TRAIN LOSS: 0.7570463418960571\n",
      "[EPOCH 0 BATCH 40/483] TRAIN LOSS: 0.9345498085021973\n",
      "[EPOCH 0 BATCH 50/483] TRAIN LOSS: 0.6681734323501587\n",
      "[EPOCH 0 BATCH 60/483] TRAIN LOSS: 0.6434216499328613\n",
      "[EPOCH 0 BATCH 70/483] TRAIN LOSS: 0.6139229536056519\n",
      "[EPOCH 0 BATCH 80/483] TRAIN LOSS: 0.6241915822029114\n",
      "[EPOCH 0 BATCH 90/483] TRAIN LOSS: 0.5974581837654114\n",
      "[EPOCH 0 BATCH 100/483] TRAIN LOSS: 0.6185202598571777\n",
      "[EPOCH 0 BATCH 110/483] TRAIN LOSS: 0.5990039706230164\n",
      "[EPOCH 0 BATCH 120/483] TRAIN LOSS: 0.6025053858757019\n",
      "[EPOCH 0 BATCH 130/483] TRAIN LOSS: 0.5780993700027466\n",
      "[EPOCH 0 BATCH 140/483] TRAIN LOSS: 0.5617362260818481\n",
      "[EPOCH 0 BATCH 150/483] TRAIN LOSS: 0.5669887065887451\n",
      "[EPOCH 0 BATCH 160/483] TRAIN LOSS: 0.5559209585189819\n",
      "[EPOCH 0 BATCH 170/483] TRAIN LOSS: 0.5328236222267151\n",
      "[EPOCH 0 BATCH 180/483] TRAIN LOSS: 0.5518218278884888\n",
      "[EPOCH 0 BATCH 190/483] TRAIN LOSS: 0.514996349811554\n",
      "[EPOCH 0 BATCH 200/483] TRAIN LOSS: 0.5240873694419861\n",
      "[EPOCH 0 BATCH 210/483] TRAIN LOSS: 0.5665899515151978\n",
      "[EPOCH 0 BATCH 220/483] TRAIN LOSS: 0.571966826915741\n",
      "[EPOCH 0 BATCH 230/483] TRAIN LOSS: 0.5234726667404175\n",
      "[EPOCH 0 BATCH 240/483] TRAIN LOSS: 0.48992690443992615\n",
      "[EPOCH 0 BATCH 250/483] TRAIN LOSS: 0.5214767456054688\n",
      "[EPOCH 0 BATCH 260/483] TRAIN LOSS: 0.5217750072479248\n",
      "[EPOCH 0 BATCH 270/483] TRAIN LOSS: 0.5203869938850403\n",
      "[EPOCH 0 BATCH 280/483] TRAIN LOSS: 0.5390655398368835\n",
      "[EPOCH 0 BATCH 290/483] TRAIN LOSS: 0.5158026218414307\n",
      "[EPOCH 0 BATCH 300/483] TRAIN LOSS: 0.49380019307136536\n",
      "[EPOCH 0 BATCH 310/483] TRAIN LOSS: 0.5124392509460449\n",
      "[EPOCH 0 BATCH 320/483] TRAIN LOSS: 0.5155259966850281\n",
      "[EPOCH 0 BATCH 330/483] TRAIN LOSS: 0.5220324397087097\n",
      "[EPOCH 0 BATCH 340/483] TRAIN LOSS: 0.47714564204216003\n",
      "[EPOCH 0 BATCH 350/483] TRAIN LOSS: 0.4713185727596283\n",
      "[EPOCH 0 BATCH 360/483] TRAIN LOSS: 0.538952112197876\n",
      "[EPOCH 0 BATCH 370/483] TRAIN LOSS: 0.5313952565193176\n",
      "[EPOCH 0 BATCH 380/483] TRAIN LOSS: 0.5263401865959167\n",
      "[EPOCH 0 BATCH 390/483] TRAIN LOSS: 0.5038365721702576\n",
      "[EPOCH 0 BATCH 400/483] TRAIN LOSS: 0.45529791712760925\n",
      "[EPOCH 0 BATCH 410/483] TRAIN LOSS: 0.5345399975776672\n",
      "[EPOCH 0 BATCH 420/483] TRAIN LOSS: 0.529901921749115\n",
      "[EPOCH 0 BATCH 430/483] TRAIN LOSS: 0.4788872301578522\n",
      "[EPOCH 0 BATCH 440/483] TRAIN LOSS: 0.4929719865322113\n",
      "[EPOCH 0 BATCH 450/483] TRAIN LOSS: 0.5165616273880005\n",
      "[EPOCH 0 BATCH 460/483] TRAIN LOSS: 0.5092242360115051\n",
      "[EPOCH 0 BATCH 470/483] TRAIN LOSS: 0.49222424626350403\n",
      "[EPOCH 0 BATCH 480/483] TRAIN LOSS: 0.4886397421360016\n",
      "[FINISHED EPOCH 0] TRAIN ACC/LOSS: 0.7928464977645305/0.4804675877094269\n",
      "[FINISHED EPOCH 0] VAL acc/loss: 0.8016535448212007/0.48031824827194214\n",
      "\n",
      "[EPOCH 1 BATCH 0/483] TRAIN LOSS: 0.4738237261772156\n",
      "[EPOCH 1 BATCH 10/483] TRAIN LOSS: 0.44199076294898987\n",
      "[EPOCH 1 BATCH 20/483] TRAIN LOSS: 0.4676165282726288\n",
      "[EPOCH 1 BATCH 30/483] TRAIN LOSS: 0.4719245135784149\n",
      "[EPOCH 1 BATCH 40/483] TRAIN LOSS: 0.5134233832359314\n",
      "[EPOCH 1 BATCH 50/483] TRAIN LOSS: 0.5026329755783081\n",
      "[EPOCH 1 BATCH 60/483] TRAIN LOSS: 0.4501471519470215\n",
      "[EPOCH 1 BATCH 70/483] TRAIN LOSS: 0.523492157459259\n",
      "[EPOCH 1 BATCH 80/483] TRAIN LOSS: 0.48448851704597473\n",
      "[EPOCH 1 BATCH 90/483] TRAIN LOSS: 0.47951740026474\n",
      "[EPOCH 1 BATCH 100/483] TRAIN LOSS: 0.4474612772464752\n",
      "[EPOCH 1 BATCH 110/483] TRAIN LOSS: 0.44189128279685974\n",
      "[EPOCH 1 BATCH 120/483] TRAIN LOSS: 0.46874645352363586\n",
      "[EPOCH 1 BATCH 130/483] TRAIN LOSS: 0.4723336100578308\n",
      "[EPOCH 1 BATCH 140/483] TRAIN LOSS: 0.4833770990371704\n",
      "[EPOCH 1 BATCH 150/483] TRAIN LOSS: 0.5167213082313538\n",
      "[EPOCH 1 BATCH 160/483] TRAIN LOSS: 0.44954022765159607\n",
      "[EPOCH 1 BATCH 170/483] TRAIN LOSS: 0.4571772813796997\n",
      "[EPOCH 1 BATCH 180/483] TRAIN LOSS: 0.455464631319046\n",
      "[EPOCH 1 BATCH 190/483] TRAIN LOSS: 0.4294195771217346\n",
      "[EPOCH 1 BATCH 200/483] TRAIN LOSS: 0.40415501594543457\n",
      "[EPOCH 1 BATCH 210/483] TRAIN LOSS: 0.46132948994636536\n",
      "[EPOCH 1 BATCH 220/483] TRAIN LOSS: 0.5103057026863098\n",
      "[EPOCH 1 BATCH 230/483] TRAIN LOSS: 0.4684132933616638\n",
      "[EPOCH 1 BATCH 240/483] TRAIN LOSS: 0.4393737018108368\n",
      "[EPOCH 1 BATCH 250/483] TRAIN LOSS: 0.41382506489753723\n",
      "[EPOCH 1 BATCH 260/483] TRAIN LOSS: 0.45478516817092896\n",
      "[EPOCH 1 BATCH 270/483] TRAIN LOSS: 0.4775139093399048\n",
      "[EPOCH 1 BATCH 280/483] TRAIN LOSS: 0.47760605812072754\n",
      "[EPOCH 1 BATCH 290/483] TRAIN LOSS: 0.48545727133750916\n",
      "[EPOCH 1 BATCH 300/483] TRAIN LOSS: 0.42453432083129883\n",
      "[EPOCH 1 BATCH 310/483] TRAIN LOSS: 0.4802075922489166\n",
      "[EPOCH 1 BATCH 320/483] TRAIN LOSS: 0.45632508397102356\n",
      "[EPOCH 1 BATCH 330/483] TRAIN LOSS: 0.49155986309051514\n",
      "[EPOCH 1 BATCH 340/483] TRAIN LOSS: 0.49871620535850525\n",
      "[EPOCH 1 BATCH 350/483] TRAIN LOSS: 0.5023648738861084\n",
      "[EPOCH 1 BATCH 360/483] TRAIN LOSS: 0.4365958571434021\n",
      "[EPOCH 1 BATCH 370/483] TRAIN LOSS: 0.43590083718299866\n",
      "[EPOCH 1 BATCH 380/483] TRAIN LOSS: 0.4790446162223816\n",
      "[EPOCH 1 BATCH 390/483] TRAIN LOSS: 0.45393091440200806\n",
      "[EPOCH 1 BATCH 400/483] TRAIN LOSS: 0.4434993863105774\n",
      "[EPOCH 1 BATCH 410/483] TRAIN LOSS: 0.5035200715065002\n",
      "[EPOCH 1 BATCH 420/483] TRAIN LOSS: 0.45114073157310486\n",
      "[EPOCH 1 BATCH 430/483] TRAIN LOSS: 0.4309188425540924\n",
      "[EPOCH 1 BATCH 440/483] TRAIN LOSS: 0.43642133474349976\n",
      "[EPOCH 1 BATCH 450/483] TRAIN LOSS: 0.4435603618621826\n",
      "[EPOCH 1 BATCH 460/483] TRAIN LOSS: 0.42207735776901245\n",
      "[EPOCH 1 BATCH 470/483] TRAIN LOSS: 0.44140487909317017\n",
      "[EPOCH 1 BATCH 480/483] TRAIN LOSS: 0.49287185072898865\n",
      "[FINISHED EPOCH 1] TRAIN ACC/LOSS: 0.8036512667660208/0.4687518775463104\n"
     ]
    },
    {
     "name": "stderr",
     "output_type": "stream",
     "text": [
      "Process Process-17:\n",
      "Process Process-19:\n",
      "Traceback (most recent call last):\n",
      "  File \"/Users/alex/anaconda/lib/python3.6/multiprocessing/process.py\", line 258, in _bootstrap\n",
      "    self.run()\n",
      "Traceback (most recent call last):\n",
      "  File \"/Users/alex/anaconda/lib/python3.6/multiprocessing/process.py\", line 93, in run\n",
      "    self._target(*self._args, **self._kwargs)\n",
      "  File \"/Users/alex/anaconda/lib/python3.6/multiprocessing/process.py\", line 258, in _bootstrap\n",
      "    self.run()\n",
      "  File \"/Users/alex/anaconda/lib/python3.6/multiprocessing/process.py\", line 93, in run\n",
      "    self._target(*self._args, **self._kwargs)\n",
      "  File \"/Users/alex/anaconda/lib/python3.6/site-packages/torch/utils/data/dataloader.py\", line 106, in _worker_loop\n",
      "    samples = collate_fn([dataset[i] for i in batch_indices])\n",
      "  File \"/Users/alex/anaconda/lib/python3.6/site-packages/torch/utils/data/dataloader.py\", line 106, in _worker_loop\n",
      "    samples = collate_fn([dataset[i] for i in batch_indices])\n",
      "  File \"/Users/alex/anaconda/lib/python3.6/site-packages/torch/utils/data/dataloader.py\", line 106, in <listcomp>\n",
      "    samples = collate_fn([dataset[i] for i in batch_indices])\n",
      "  File \"/Users/alex/anaconda/lib/python3.6/site-packages/torch/utils/data/dataloader.py\", line 106, in <listcomp>\n",
      "    samples = collate_fn([dataset[i] for i in batch_indices])\n",
      "  File \"/Users/alex/Documents/Uni/Master/3.Semester/ANM/project/AIOps/implementation/util/KPIDataset.py\", line 59, in __getitem__\n",
      "    rows = self.df.iloc[start_index : end_index]\n",
      "  File \"/Users/alex/Documents/Uni/Master/3.Semester/ANM/project/AIOps/implementation/util/KPIDataset.py\", line 43, in __getitem__\n",
      "    end_index = index_df + self.seq_length // 2 + 1\n"
     ]
    },
    {
     "ename": "KeyboardInterrupt",
     "evalue": "",
     "output_type": "error",
     "traceback": [
      "\u001b[0;31m---------------------------------------------------------------------------\u001b[0m",
      "\u001b[0;31mKeyboardInterrupt\u001b[0m                         Traceback (most recent call last)",
      "\u001b[0;32m<ipython-input-13-3435b262f1ae>\u001b[0m in \u001b[0;36m<module>\u001b[0;34m()\u001b[0m\n\u001b[0;32m----> 1\u001b[0;31m \u001b[0mtrainer\u001b[0m\u001b[0;34m.\u001b[0m\u001b[0mtrain\u001b[0m\u001b[0;34m(\u001b[0m\u001b[0;34m)\u001b[0m\u001b[0;34m\u001b[0m\u001b[0m\n\u001b[0m",
      "\u001b[0;32m~/Documents/Uni/Master/3.Semester/ANM/project/AIOps/implementation/util/Trainer.py\u001b[0m in \u001b[0;36mtrain\u001b[0;34m(self)\u001b[0m\n\u001b[1;32m     79\u001b[0m             \u001b[0mself\u001b[0m\u001b[0;34m.\u001b[0m\u001b[0mmodel\u001b[0m\u001b[0;34m.\u001b[0m\u001b[0meval\u001b[0m\u001b[0;34m(\u001b[0m\u001b[0;34m)\u001b[0m\u001b[0;34m\u001b[0m\u001b[0m\n\u001b[1;32m     80\u001b[0m             \u001b[0mloss_sum\u001b[0m\u001b[0;34m,\u001b[0m \u001b[0macc_sum\u001b[0m \u001b[0;34m=\u001b[0m \u001b[0;36m0\u001b[0m\u001b[0;34m,\u001b[0m \u001b[0;36m0\u001b[0m\u001b[0;34m\u001b[0m\u001b[0m\n\u001b[0;32m---> 81\u001b[0;31m             \u001b[0;32mfor\u001b[0m \u001b[0mx\u001b[0m\u001b[0;34m,\u001b[0m \u001b[0my\u001b[0m \u001b[0;32min\u001b[0m \u001b[0mself\u001b[0m\u001b[0;34m.\u001b[0m\u001b[0mval_loader\u001b[0m\u001b[0;34m:\u001b[0m\u001b[0;34m\u001b[0m\u001b[0m\n\u001b[0m\u001b[1;32m     82\u001b[0m                 \u001b[0mout\u001b[0m \u001b[0;34m=\u001b[0m \u001b[0mself\u001b[0m\u001b[0;34m.\u001b[0m\u001b[0mmodel\u001b[0m\u001b[0;34m(\u001b[0m\u001b[0mx\u001b[0m\u001b[0;34m)\u001b[0m\u001b[0;34m\u001b[0m\u001b[0m\n\u001b[1;32m     83\u001b[0m                 \u001b[0mloss_sum\u001b[0m \u001b[0;34m+=\u001b[0m \u001b[0mself\u001b[0m\u001b[0;34m.\u001b[0m\u001b[0mloss_func\u001b[0m\u001b[0;34m(\u001b[0m\u001b[0mout\u001b[0m\u001b[0;34m,\u001b[0m \u001b[0my\u001b[0m\u001b[0;34m)\u001b[0m\u001b[0;34m\u001b[0m\u001b[0m\n",
      "\u001b[0;32m~/anaconda/lib/python3.6/site-packages/torch/utils/data/dataloader.py\u001b[0m in \u001b[0;36m__next__\u001b[0;34m(self)\u001b[0m\n\u001b[1;32m    328\u001b[0m         \u001b[0;32mwhile\u001b[0m \u001b[0;32mTrue\u001b[0m\u001b[0;34m:\u001b[0m\u001b[0;34m\u001b[0m\u001b[0m\n\u001b[1;32m    329\u001b[0m             \u001b[0;32massert\u001b[0m \u001b[0;34m(\u001b[0m\u001b[0;32mnot\u001b[0m \u001b[0mself\u001b[0m\u001b[0;34m.\u001b[0m\u001b[0mshutdown\u001b[0m \u001b[0;32mand\u001b[0m \u001b[0mself\u001b[0m\u001b[0;34m.\u001b[0m\u001b[0mbatches_outstanding\u001b[0m \u001b[0;34m>\u001b[0m \u001b[0;36m0\u001b[0m\u001b[0;34m)\u001b[0m\u001b[0;34m\u001b[0m\u001b[0m\n\u001b[0;32m--> 330\u001b[0;31m             \u001b[0midx\u001b[0m\u001b[0;34m,\u001b[0m \u001b[0mbatch\u001b[0m \u001b[0;34m=\u001b[0m \u001b[0mself\u001b[0m\u001b[0;34m.\u001b[0m\u001b[0m_get_batch\u001b[0m\u001b[0;34m(\u001b[0m\u001b[0;34m)\u001b[0m\u001b[0;34m\u001b[0m\u001b[0m\n\u001b[0m\u001b[1;32m    331\u001b[0m             \u001b[0mself\u001b[0m\u001b[0;34m.\u001b[0m\u001b[0mbatches_outstanding\u001b[0m \u001b[0;34m-=\u001b[0m \u001b[0;36m1\u001b[0m\u001b[0;34m\u001b[0m\u001b[0m\n\u001b[1;32m    332\u001b[0m             \u001b[0;32mif\u001b[0m \u001b[0midx\u001b[0m \u001b[0;34m!=\u001b[0m \u001b[0mself\u001b[0m\u001b[0;34m.\u001b[0m\u001b[0mrcvd_idx\u001b[0m\u001b[0;34m:\u001b[0m\u001b[0;34m\u001b[0m\u001b[0m\n",
      "\u001b[0;32m~/anaconda/lib/python3.6/site-packages/torch/utils/data/dataloader.py\u001b[0m in \u001b[0;36m_get_batch\u001b[0;34m(self)\u001b[0m\n\u001b[1;32m    307\u001b[0m                 \u001b[0;32mraise\u001b[0m \u001b[0mRuntimeError\u001b[0m\u001b[0;34m(\u001b[0m\u001b[0;34m'DataLoader timed out after {} seconds'\u001b[0m\u001b[0;34m.\u001b[0m\u001b[0mformat\u001b[0m\u001b[0;34m(\u001b[0m\u001b[0mself\u001b[0m\u001b[0;34m.\u001b[0m\u001b[0mtimeout\u001b[0m\u001b[0;34m)\u001b[0m\u001b[0;34m)\u001b[0m\u001b[0;34m\u001b[0m\u001b[0m\n\u001b[1;32m    308\u001b[0m         \u001b[0;32melse\u001b[0m\u001b[0;34m:\u001b[0m\u001b[0;34m\u001b[0m\u001b[0m\n\u001b[0;32m--> 309\u001b[0;31m             \u001b[0;32mreturn\u001b[0m \u001b[0mself\u001b[0m\u001b[0;34m.\u001b[0m\u001b[0mdata_queue\u001b[0m\u001b[0;34m.\u001b[0m\u001b[0mget\u001b[0m\u001b[0;34m(\u001b[0m\u001b[0;34m)\u001b[0m\u001b[0;34m\u001b[0m\u001b[0m\n\u001b[0m\u001b[1;32m    310\u001b[0m \u001b[0;34m\u001b[0m\u001b[0m\n\u001b[1;32m    311\u001b[0m     \u001b[0;32mdef\u001b[0m \u001b[0m__next__\u001b[0m\u001b[0;34m(\u001b[0m\u001b[0mself\u001b[0m\u001b[0;34m)\u001b[0m\u001b[0;34m:\u001b[0m\u001b[0;34m\u001b[0m\u001b[0m\n",
      "\u001b[0;32m~/anaconda/lib/python3.6/multiprocessing/queues.py\u001b[0m in \u001b[0;36mget\u001b[0;34m(self)\u001b[0m\n\u001b[1;32m    333\u001b[0m     \u001b[0;32mdef\u001b[0m \u001b[0mget\u001b[0m\u001b[0;34m(\u001b[0m\u001b[0mself\u001b[0m\u001b[0;34m)\u001b[0m\u001b[0;34m:\u001b[0m\u001b[0;34m\u001b[0m\u001b[0m\n\u001b[1;32m    334\u001b[0m         \u001b[0;32mwith\u001b[0m \u001b[0mself\u001b[0m\u001b[0;34m.\u001b[0m\u001b[0m_rlock\u001b[0m\u001b[0;34m:\u001b[0m\u001b[0;34m\u001b[0m\u001b[0m\n\u001b[0;32m--> 335\u001b[0;31m             \u001b[0mres\u001b[0m \u001b[0;34m=\u001b[0m \u001b[0mself\u001b[0m\u001b[0;34m.\u001b[0m\u001b[0m_reader\u001b[0m\u001b[0;34m.\u001b[0m\u001b[0mrecv_bytes\u001b[0m\u001b[0;34m(\u001b[0m\u001b[0;34m)\u001b[0m\u001b[0;34m\u001b[0m\u001b[0m\n\u001b[0m\u001b[1;32m    336\u001b[0m         \u001b[0;31m# unserialize the data after having released the lock\u001b[0m\u001b[0;34m\u001b[0m\u001b[0;34m\u001b[0m\u001b[0m\n\u001b[1;32m    337\u001b[0m         \u001b[0;32mreturn\u001b[0m \u001b[0m_ForkingPickler\u001b[0m\u001b[0;34m.\u001b[0m\u001b[0mloads\u001b[0m\u001b[0;34m(\u001b[0m\u001b[0mres\u001b[0m\u001b[0;34m)\u001b[0m\u001b[0;34m\u001b[0m\u001b[0m\n",
      "\u001b[0;32m~/anaconda/lib/python3.6/multiprocessing/connection.py\u001b[0m in \u001b[0;36mrecv_bytes\u001b[0;34m(self, maxlength)\u001b[0m\n\u001b[1;32m    214\u001b[0m         \u001b[0;32mif\u001b[0m \u001b[0mmaxlength\u001b[0m \u001b[0;32mis\u001b[0m \u001b[0;32mnot\u001b[0m \u001b[0;32mNone\u001b[0m \u001b[0;32mand\u001b[0m \u001b[0mmaxlength\u001b[0m \u001b[0;34m<\u001b[0m \u001b[0;36m0\u001b[0m\u001b[0;34m:\u001b[0m\u001b[0;34m\u001b[0m\u001b[0m\n\u001b[1;32m    215\u001b[0m             \u001b[0;32mraise\u001b[0m \u001b[0mValueError\u001b[0m\u001b[0;34m(\u001b[0m\u001b[0;34m\"negative maxlength\"\u001b[0m\u001b[0;34m)\u001b[0m\u001b[0;34m\u001b[0m\u001b[0m\n\u001b[0;32m--> 216\u001b[0;31m         \u001b[0mbuf\u001b[0m \u001b[0;34m=\u001b[0m \u001b[0mself\u001b[0m\u001b[0;34m.\u001b[0m\u001b[0m_recv_bytes\u001b[0m\u001b[0;34m(\u001b[0m\u001b[0mmaxlength\u001b[0m\u001b[0;34m)\u001b[0m\u001b[0;34m\u001b[0m\u001b[0m\n\u001b[0m\u001b[1;32m    217\u001b[0m         \u001b[0;32mif\u001b[0m \u001b[0mbuf\u001b[0m \u001b[0;32mis\u001b[0m \u001b[0;32mNone\u001b[0m\u001b[0;34m:\u001b[0m\u001b[0;34m\u001b[0m\u001b[0m\n\u001b[1;32m    218\u001b[0m             \u001b[0mself\u001b[0m\u001b[0;34m.\u001b[0m\u001b[0m_bad_message_length\u001b[0m\u001b[0;34m(\u001b[0m\u001b[0;34m)\u001b[0m\u001b[0;34m\u001b[0m\u001b[0m\n",
      "\u001b[0;32m~/anaconda/lib/python3.6/multiprocessing/connection.py\u001b[0m in \u001b[0;36m_recv_bytes\u001b[0;34m(self, maxsize)\u001b[0m\n\u001b[1;32m    405\u001b[0m \u001b[0;34m\u001b[0m\u001b[0m\n\u001b[1;32m    406\u001b[0m     \u001b[0;32mdef\u001b[0m \u001b[0m_recv_bytes\u001b[0m\u001b[0;34m(\u001b[0m\u001b[0mself\u001b[0m\u001b[0;34m,\u001b[0m \u001b[0mmaxsize\u001b[0m\u001b[0;34m=\u001b[0m\u001b[0;32mNone\u001b[0m\u001b[0;34m)\u001b[0m\u001b[0;34m:\u001b[0m\u001b[0;34m\u001b[0m\u001b[0m\n\u001b[0;32m--> 407\u001b[0;31m         \u001b[0mbuf\u001b[0m \u001b[0;34m=\u001b[0m \u001b[0mself\u001b[0m\u001b[0;34m.\u001b[0m\u001b[0m_recv\u001b[0m\u001b[0;34m(\u001b[0m\u001b[0;36m4\u001b[0m\u001b[0;34m)\u001b[0m\u001b[0;34m\u001b[0m\u001b[0m\n\u001b[0m\u001b[1;32m    408\u001b[0m         \u001b[0msize\u001b[0m\u001b[0;34m,\u001b[0m \u001b[0;34m=\u001b[0m \u001b[0mstruct\u001b[0m\u001b[0;34m.\u001b[0m\u001b[0munpack\u001b[0m\u001b[0;34m(\u001b[0m\u001b[0;34m\"!i\"\u001b[0m\u001b[0;34m,\u001b[0m \u001b[0mbuf\u001b[0m\u001b[0;34m.\u001b[0m\u001b[0mgetvalue\u001b[0m\u001b[0;34m(\u001b[0m\u001b[0;34m)\u001b[0m\u001b[0;34m)\u001b[0m\u001b[0;34m\u001b[0m\u001b[0m\n\u001b[1;32m    409\u001b[0m         \u001b[0;32mif\u001b[0m \u001b[0mmaxsize\u001b[0m \u001b[0;32mis\u001b[0m \u001b[0;32mnot\u001b[0m \u001b[0;32mNone\u001b[0m \u001b[0;32mand\u001b[0m \u001b[0msize\u001b[0m \u001b[0;34m>\u001b[0m \u001b[0mmaxsize\u001b[0m\u001b[0;34m:\u001b[0m\u001b[0;34m\u001b[0m\u001b[0m\n",
      "\u001b[0;32m~/anaconda/lib/python3.6/multiprocessing/connection.py\u001b[0m in \u001b[0;36m_recv\u001b[0;34m(self, size, read)\u001b[0m\n\u001b[1;32m    377\u001b[0m         \u001b[0mremaining\u001b[0m \u001b[0;34m=\u001b[0m \u001b[0msize\u001b[0m\u001b[0;34m\u001b[0m\u001b[0m\n\u001b[1;32m    378\u001b[0m         \u001b[0;32mwhile\u001b[0m \u001b[0mremaining\u001b[0m \u001b[0;34m>\u001b[0m \u001b[0;36m0\u001b[0m\u001b[0;34m:\u001b[0m\u001b[0;34m\u001b[0m\u001b[0m\n\u001b[0;32m--> 379\u001b[0;31m             \u001b[0mchunk\u001b[0m \u001b[0;34m=\u001b[0m \u001b[0mread\u001b[0m\u001b[0;34m(\u001b[0m\u001b[0mhandle\u001b[0m\u001b[0;34m,\u001b[0m \u001b[0mremaining\u001b[0m\u001b[0;34m)\u001b[0m\u001b[0;34m\u001b[0m\u001b[0m\n\u001b[0m\u001b[1;32m    380\u001b[0m             \u001b[0mn\u001b[0m \u001b[0;34m=\u001b[0m \u001b[0mlen\u001b[0m\u001b[0;34m(\u001b[0m\u001b[0mchunk\u001b[0m\u001b[0;34m)\u001b[0m\u001b[0;34m\u001b[0m\u001b[0m\n\u001b[1;32m    381\u001b[0m             \u001b[0;32mif\u001b[0m \u001b[0mn\u001b[0m \u001b[0;34m==\u001b[0m \u001b[0;36m0\u001b[0m\u001b[0;34m:\u001b[0m\u001b[0;34m\u001b[0m\u001b[0m\n",
      "\u001b[0;31mKeyboardInterrupt\u001b[0m: "
     ]
    },
    {
     "name": "stderr",
     "output_type": "stream",
     "text": [
      "KeyboardInterrupt\n",
      "  File \"/Users/alex/anaconda/lib/python3.6/site-packages/pandas/core/indexing.py\", line 1373, in __getitem__\n",
      "    return self._getitem_axis(maybe_callable, axis=axis)\n",
      "  File \"/Users/alex/anaconda/lib/python3.6/site-packages/pandas/core/indexing.py\", line 1805, in _getitem_axis\n",
      "    return self._get_slice_axis(key, axis=axis)\n",
      "  File \"/Users/alex/anaconda/lib/python3.6/site-packages/pandas/core/indexing.py\", line 1774, in _get_slice_axis\n",
      "    return self._slice(slice_obj, axis=axis, kind='iloc')\n",
      "  File \"/Users/alex/anaconda/lib/python3.6/site-packages/pandas/core/indexing.py\", line 155, in _slice\n",
      "    return self.obj._slice(obj, axis=axis, kind=kind)\n",
      "  File \"/Users/alex/anaconda/lib/python3.6/site-packages/pandas/core/generic.py\", line 1944, in _slice\n",
      "    result = self._constructor(self._data.get_slice(slobj, axis=axis))\n",
      "Process Process-20:\n",
      "Traceback (most recent call last):\n",
      "  File \"/Users/alex/anaconda/lib/python3.6/site-packages/pandas/core/internals.py\", line 3612, in get_slice\n",
      "    def get_slice(self, slobj, axis=0):\n",
      "  File \"/Users/alex/anaconda/lib/python3.6/multiprocessing/process.py\", line 258, in _bootstrap\n",
      "    self.run()\n",
      "  File \"/Users/alex/anaconda/lib/python3.6/multiprocessing/process.py\", line 93, in run\n",
      "    self._target(*self._args, **self._kwargs)\n",
      "  File \"/Users/alex/anaconda/lib/python3.6/site-packages/torch/utils/data/dataloader.py\", line 106, in _worker_loop\n",
      "    samples = collate_fn([dataset[i] for i in batch_indices])\n",
      "KeyboardInterrupt\n",
      "  File \"/Users/alex/anaconda/lib/python3.6/site-packages/torch/utils/data/dataloader.py\", line 106, in <listcomp>\n",
      "    samples = collate_fn([dataset[i] for i in batch_indices])\n",
      "  File \"/Users/alex/Documents/Uni/Master/3.Semester/ANM/project/AIOps/implementation/util/KPIDataset.py\", line 59, in __getitem__\n",
      "    rows = self.df.iloc[start_index : end_index]\n",
      "  File \"/Users/alex/anaconda/lib/python3.6/site-packages/pandas/core/indexing.py\", line 1373, in __getitem__\n",
      "    return self._getitem_axis(maybe_callable, axis=axis)\n",
      "  File \"/Users/alex/anaconda/lib/python3.6/site-packages/pandas/core/indexing.py\", line 1805, in _getitem_axis\n",
      "    return self._get_slice_axis(key, axis=axis)\n",
      "  File \"/Users/alex/anaconda/lib/python3.6/site-packages/pandas/core/indexing.py\", line 1774, in _get_slice_axis\n",
      "    return self._slice(slice_obj, axis=axis, kind='iloc')\n",
      "  File \"/Users/alex/anaconda/lib/python3.6/site-packages/pandas/core/indexing.py\", line 155, in _slice\n",
      "    return self.obj._slice(obj, axis=axis, kind=kind)\n"
     ]
    }
   ],
   "source": [
    "trainer.train()"
   ]
  },
  {
   "cell_type": "code",
   "execution_count": 13,
   "metadata": {},
   "outputs": [
    {
     "data": {
      "text/plain": [
       "FullyConnected(\n",
       "  (fc1): Linear(in_features=31, out_features=400, bias=True)\n",
       "  (fc2): Linear(in_features=400, out_features=2, bias=True)\n",
       ")"
      ]
     },
     "execution_count": 13,
     "metadata": {},
     "output_type": "execute_result"
    }
   ],
   "source": [
    "model"
   ]
  },
  {
   "cell_type": "code",
   "execution_count": null,
   "metadata": {},
   "outputs": [],
   "source": []
  }
 ],
 "metadata": {
  "kernelspec": {
   "display_name": "Python [default]",
   "language": "python",
   "name": "python3"
  },
  "language_info": {
   "codemirror_mode": {
    "name": "ipython",
    "version": 3
   },
   "file_extension": ".py",
   "mimetype": "text/x-python",
   "name": "python",
   "nbconvert_exporter": "python",
   "pygments_lexer": "ipython3",
   "version": "3.6.5"
  }
 },
 "nbformat": 4,
 "nbformat_minor": 2
}
