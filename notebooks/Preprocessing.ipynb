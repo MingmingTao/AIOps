{
 "cells": [
  {
   "cell_type": "code",
   "execution_count": 3,
   "metadata": {},
   "outputs": [],
   "source": [
    "import datetime\n",
    "import numpy as np\n",
    "import pandas as pd\n",
    "from pandas import Series\n",
    "from itertools import groupby\n",
    "import matplotlib.pyplot as plt\n",
    "\n",
    "%matplotlib inline  "
   ]
  },
  {
   "cell_type": "code",
   "execution_count": 4,
   "metadata": {},
   "outputs": [],
   "source": [
    "df = pd.read_csv('../../data/test.csv')\n",
    "ids = df['KPI ID'].unique()"
   ]
  },
  {
   "cell_type": "code",
   "execution_count": 5,
   "metadata": {},
   "outputs": [
    {
     "data": {
      "text/html": [
       "<div>\n",
       "<style scoped>\n",
       "    .dataframe tbody tr th:only-of-type {\n",
       "        vertical-align: middle;\n",
       "    }\n",
       "\n",
       "    .dataframe tbody tr th {\n",
       "        vertical-align: top;\n",
       "    }\n",
       "\n",
       "    .dataframe thead th {\n",
       "        text-align: right;\n",
       "    }\n",
       "</style>\n",
       "<table border=\"1\" class=\"dataframe\">\n",
       "  <thead>\n",
       "    <tr style=\"text-align: right;\">\n",
       "      <th></th>\n",
       "      <th>timestamp</th>\n",
       "      <th>value</th>\n",
       "      <th>KPI ID</th>\n",
       "    </tr>\n",
       "  </thead>\n",
       "  <tbody>\n",
       "    <tr>\n",
       "      <th>0</th>\n",
       "      <td>1501475700</td>\n",
       "      <td>2.719298</td>\n",
       "      <td>02e99bd4f6cfb33f</td>\n",
       "    </tr>\n",
       "    <tr>\n",
       "      <th>1</th>\n",
       "      <td>1501475760</td>\n",
       "      <td>2.456140</td>\n",
       "      <td>02e99bd4f6cfb33f</td>\n",
       "    </tr>\n",
       "    <tr>\n",
       "      <th>2</th>\n",
       "      <td>1501475820</td>\n",
       "      <td>2.333333</td>\n",
       "      <td>02e99bd4f6cfb33f</td>\n",
       "    </tr>\n",
       "    <tr>\n",
       "      <th>3</th>\n",
       "      <td>1501475880</td>\n",
       "      <td>2.543860</td>\n",
       "      <td>02e99bd4f6cfb33f</td>\n",
       "    </tr>\n",
       "    <tr>\n",
       "      <th>4</th>\n",
       "      <td>1501475940</td>\n",
       "      <td>2.333333</td>\n",
       "      <td>02e99bd4f6cfb33f</td>\n",
       "    </tr>\n",
       "  </tbody>\n",
       "</table>\n",
       "</div>"
      ],
      "text/plain": [
       "    timestamp     value            KPI ID\n",
       "0  1501475700  2.719298  02e99bd4f6cfb33f\n",
       "1  1501475760  2.456140  02e99bd4f6cfb33f\n",
       "2  1501475820  2.333333  02e99bd4f6cfb33f\n",
       "3  1501475880  2.543860  02e99bd4f6cfb33f\n",
       "4  1501475940  2.333333  02e99bd4f6cfb33f"
      ]
     },
     "execution_count": 5,
     "metadata": {},
     "output_type": "execute_result"
    }
   ],
   "source": [
    "df.head()"
   ]
  },
  {
   "cell_type": "code",
   "execution_count": 7,
   "metadata": {},
   "outputs": [],
   "source": [
    "df['label'].value_counts()"
   ]
  },
  {
   "cell_type": "code",
   "execution_count": 8,
   "metadata": {},
   "outputs": [
    {
     "data": {
      "text/plain": [
       "count    2.345211e+06\n",
       "mean     9.744256e+07\n",
       "std      3.019166e+08\n",
       "min     -6.003177e+00\n",
       "25%      4.850000e+00\n",
       "50%      1.411000e+03\n",
       "75%      2.498000e+03\n",
       "max      1.632326e+09\n",
       "Name: value, dtype: float64"
      ]
     },
     "execution_count": 8,
     "metadata": {},
     "output_type": "execute_result"
    }
   ],
   "source": [
    "df['value'].describe()"
   ]
  },
  {
   "cell_type": "code",
   "execution_count": 9,
   "metadata": {},
   "outputs": [
    {
     "name": "stderr",
     "output_type": "stream",
     "text": [
      "/Users/alex/anaconda/lib/python3.6/site-packages/ipykernel/__main__.py:5: SettingWithCopyWarning: \n",
      "A value is trying to be set on a copy of a slice from a DataFrame.\n",
      "Try using .loc[row_indexer,col_indexer] = value instead\n",
      "\n",
      "See the caveats in the documentation: http://pandas.pydata.org/pandas-docs/stable/indexing.html#indexing-view-versus-copy\n"
     ]
    },
    {
     "name": "stdout",
     "output_type": "stream",
     "text": [
      "Done with 02e99bd4f6cfb33f\n"
     ]
    },
    {
     "name": "stderr",
     "output_type": "stream",
     "text": [
      "/Users/alex/anaconda/lib/python3.6/site-packages/ipykernel/__main__.py:5: SettingWithCopyWarning: \n",
      "A value is trying to be set on a copy of a slice from a DataFrame.\n",
      "Try using .loc[row_indexer,col_indexer] = value instead\n",
      "\n",
      "See the caveats in the documentation: http://pandas.pydata.org/pandas-docs/stable/indexing.html#indexing-view-versus-copy\n"
     ]
    },
    {
     "name": "stdout",
     "output_type": "stream",
     "text": [
      "Done with 9bd90500bfd11edb\n",
      "Done with da403e4e3f87c9e0\n",
      "Done with a5bf5d65261d859a\n",
      "Done with 18fbb1d5a5dc099d\n",
      "Done with 09513ae3e75778a3\n",
      "Done with c58bfcbacb2822d1\n",
      "Done with 1c35dbf57f55f5e4\n",
      "Done with 046ec29ddf80d62e\n",
      "Done with 07927a9a18fa19ae\n",
      "Done with 54e8a140f6237526\n",
      "Done with b3b2e6d1a791d63a\n",
      "Done with 8a20c229e9860d0c\n",
      "Done with 769894baefea4e9e\n",
      "Done with 76f4550c43334374\n",
      "Done with e0770391decc44ce\n",
      "Done with 8c892e5525f3e491\n",
      "Done with 40e25005ff8992bd\n",
      "Done with cff6d3c01e6a6bfa\n",
      "Done with 71595dd7171f4540\n",
      "Done with 7c189dd36f048a6c\n",
      "Done with a40b1df87e3f1c87\n",
      "Done with 8bef9af9a922e0b3\n",
      "Done with affb01ca2b4f0b45\n",
      "Done with 9ee5879409dccef9\n",
      "Done with 88cf3a776ba00e7c\n"
     ]
    }
   ],
   "source": [
    "# upsampling\n",
    "dfs = []\n",
    "for _id in ids:\n",
    "    df_tmp = df[df['KPI ID'] == _id]\n",
    "    df_tmp['datetime'] = pd.to_datetime(df_tmp['timestamp'], unit='s')\n",
    "    df_tmp = df_tmp.set_index('datetime')\n",
    "    df_tmp = df_tmp.sort_index()\n",
    "    df_tmp = df_tmp.resample('1T').ffill()\n",
    "    \n",
    "    df_tmp['id'] = df_tmp['KPI ID'] + '-' + df_tmp.index.astype('str') \n",
    "    df_tmp = df_tmp.set_index('id')\n",
    "    \n",
    "    dfs.append(df_tmp)\n",
    "    print(f'Done with {_id}')\n",
    "    \n",
    "df_sampled = pd.concat(dfs)"
   ]
  },
  {
   "cell_type": "code",
   "execution_count": 11,
   "metadata": {},
   "outputs": [
    {
     "data": {
      "text/html": [
       "<div>\n",
       "<style scoped>\n",
       "    .dataframe tbody tr th:only-of-type {\n",
       "        vertical-align: middle;\n",
       "    }\n",
       "\n",
       "    .dataframe tbody tr th {\n",
       "        vertical-align: top;\n",
       "    }\n",
       "\n",
       "    .dataframe thead th {\n",
       "        text-align: right;\n",
       "    }\n",
       "</style>\n",
       "<table border=\"1\" class=\"dataframe\">\n",
       "  <thead>\n",
       "    <tr style=\"text-align: right;\">\n",
       "      <th></th>\n",
       "      <th>timestamp</th>\n",
       "      <th>value</th>\n",
       "      <th>KPI ID</th>\n",
       "    </tr>\n",
       "    <tr>\n",
       "      <th>id</th>\n",
       "      <th></th>\n",
       "      <th></th>\n",
       "      <th></th>\n",
       "    </tr>\n",
       "  </thead>\n",
       "  <tbody>\n",
       "    <tr>\n",
       "      <th>02e99bd4f6cfb33f-2017-07-31 04:35:00</th>\n",
       "      <td>1501475700</td>\n",
       "      <td>2.719298</td>\n",
       "      <td>02e99bd4f6cfb33f</td>\n",
       "    </tr>\n",
       "    <tr>\n",
       "      <th>02e99bd4f6cfb33f-2017-07-31 04:36:00</th>\n",
       "      <td>1501475760</td>\n",
       "      <td>2.456140</td>\n",
       "      <td>02e99bd4f6cfb33f</td>\n",
       "    </tr>\n",
       "    <tr>\n",
       "      <th>02e99bd4f6cfb33f-2017-07-31 04:37:00</th>\n",
       "      <td>1501475820</td>\n",
       "      <td>2.333333</td>\n",
       "      <td>02e99bd4f6cfb33f</td>\n",
       "    </tr>\n",
       "    <tr>\n",
       "      <th>02e99bd4f6cfb33f-2017-07-31 04:38:00</th>\n",
       "      <td>1501475880</td>\n",
       "      <td>2.543860</td>\n",
       "      <td>02e99bd4f6cfb33f</td>\n",
       "    </tr>\n",
       "    <tr>\n",
       "      <th>02e99bd4f6cfb33f-2017-07-31 04:39:00</th>\n",
       "      <td>1501475940</td>\n",
       "      <td>2.333333</td>\n",
       "      <td>02e99bd4f6cfb33f</td>\n",
       "    </tr>\n",
       "  </tbody>\n",
       "</table>\n",
       "</div>"
      ],
      "text/plain": [
       "                                       timestamp     value            KPI ID\n",
       "id                                                                          \n",
       "02e99bd4f6cfb33f-2017-07-31 04:35:00  1501475700  2.719298  02e99bd4f6cfb33f\n",
       "02e99bd4f6cfb33f-2017-07-31 04:36:00  1501475760  2.456140  02e99bd4f6cfb33f\n",
       "02e99bd4f6cfb33f-2017-07-31 04:37:00  1501475820  2.333333  02e99bd4f6cfb33f\n",
       "02e99bd4f6cfb33f-2017-07-31 04:38:00  1501475880  2.543860  02e99bd4f6cfb33f\n",
       "02e99bd4f6cfb33f-2017-07-31 04:39:00  1501475940  2.333333  02e99bd4f6cfb33f"
      ]
     },
     "execution_count": 11,
     "metadata": {},
     "output_type": "execute_result"
    }
   ],
   "source": [
    "df_sampled.head()"
   ]
  },
  {
   "cell_type": "code",
   "execution_count": 13,
   "metadata": {},
   "outputs": [
    {
     "data": {
      "text/html": [
       "<div>\n",
       "<style scoped>\n",
       "    .dataframe tbody tr th:only-of-type {\n",
       "        vertical-align: middle;\n",
       "    }\n",
       "\n",
       "    .dataframe tbody tr th {\n",
       "        vertical-align: top;\n",
       "    }\n",
       "\n",
       "    .dataframe thead th {\n",
       "        text-align: right;\n",
       "    }\n",
       "</style>\n",
       "<table border=\"1\" class=\"dataframe\">\n",
       "  <thead>\n",
       "    <tr style=\"text-align: right;\">\n",
       "      <th></th>\n",
       "      <th>timestamp</th>\n",
       "      <th>value</th>\n",
       "    </tr>\n",
       "  </thead>\n",
       "  <tbody>\n",
       "    <tr>\n",
       "      <th>count</th>\n",
       "      <td>1.317950e+05</td>\n",
       "      <td>131795.000000</td>\n",
       "    </tr>\n",
       "    <tr>\n",
       "      <th>mean</th>\n",
       "      <td>1.505418e+09</td>\n",
       "      <td>24.456852</td>\n",
       "    </tr>\n",
       "    <tr>\n",
       "      <th>std</th>\n",
       "      <td>2.284245e+06</td>\n",
       "      <td>7.386116</td>\n",
       "    </tr>\n",
       "    <tr>\n",
       "      <th>min</th>\n",
       "      <td>1.501476e+09</td>\n",
       "      <td>0.000000</td>\n",
       "    </tr>\n",
       "    <tr>\n",
       "      <th>25%</th>\n",
       "      <td>1.503453e+09</td>\n",
       "      <td>19.250000</td>\n",
       "    </tr>\n",
       "    <tr>\n",
       "      <th>50%</th>\n",
       "      <td>1.505430e+09</td>\n",
       "      <td>24.416666</td>\n",
       "    </tr>\n",
       "    <tr>\n",
       "      <th>75%</th>\n",
       "      <td>1.507406e+09</td>\n",
       "      <td>29.666666</td>\n",
       "    </tr>\n",
       "    <tr>\n",
       "      <th>max</th>\n",
       "      <td>1.509383e+09</td>\n",
       "      <td>103.166664</td>\n",
       "    </tr>\n",
       "  </tbody>\n",
       "</table>\n",
       "</div>"
      ],
      "text/plain": [
       "          timestamp          value\n",
       "count  1.317950e+05  131795.000000\n",
       "mean   1.505418e+09      24.456852\n",
       "std    2.284245e+06       7.386116\n",
       "min    1.501476e+09       0.000000\n",
       "25%    1.503453e+09      19.250000\n",
       "50%    1.505430e+09      24.416666\n",
       "75%    1.507406e+09      29.666666\n",
       "max    1.509383e+09     103.166664"
      ]
     },
     "execution_count": 13,
     "metadata": {},
     "output_type": "execute_result"
    }
   ],
   "source": [
    "df_sampled[df_sampled['KPI ID'] == ids[1]].describe()"
   ]
  },
  {
   "cell_type": "code",
   "execution_count": 15,
   "metadata": {},
   "outputs": [],
   "source": [
    "# normalization\n",
    "for _id in ids:\n",
    "    df_tmp = df_sampled[df_sampled['KPI ID'] == _id]\n",
    "    df_diff = df_tmp['value'].diff()\n",
    "    #df_tmp = df_tmp[['timestamp', 'label', 'KPI ID']].join(df_diff)\n",
    "    df_tmp = df_tmp[['timestamp', 'KPI ID']].join(df_diff)\n",
    "    df_sampled.loc[df_sampled['KPI ID'] == _id, 'value'] = (df_tmp['value'] - df_tmp['value'].mean()) / df_tmp['value'].std()"
   ]
  },
  {
   "cell_type": "code",
   "execution_count": 17,
   "metadata": {},
   "outputs": [
    {
     "data": {
      "text/html": [
       "<div>\n",
       "<style scoped>\n",
       "    .dataframe tbody tr th:only-of-type {\n",
       "        vertical-align: middle;\n",
       "    }\n",
       "\n",
       "    .dataframe tbody tr th {\n",
       "        vertical-align: top;\n",
       "    }\n",
       "\n",
       "    .dataframe thead th {\n",
       "        text-align: right;\n",
       "    }\n",
       "</style>\n",
       "<table border=\"1\" class=\"dataframe\">\n",
       "  <thead>\n",
       "    <tr style=\"text-align: right;\">\n",
       "      <th></th>\n",
       "      <th>timestamp</th>\n",
       "      <th>value</th>\n",
       "    </tr>\n",
       "  </thead>\n",
       "  <tbody>\n",
       "    <tr>\n",
       "      <th>count</th>\n",
       "      <td>6.327100e+04</td>\n",
       "      <td>6.327000e+04</td>\n",
       "    </tr>\n",
       "    <tr>\n",
       "      <th>mean</th>\n",
       "      <td>1.472876e+09</td>\n",
       "      <td>-7.743029e-16</td>\n",
       "    </tr>\n",
       "    <tr>\n",
       "      <th>std</th>\n",
       "      <td>1.084169e+06</td>\n",
       "      <td>1.000000e+00</td>\n",
       "    </tr>\n",
       "    <tr>\n",
       "      <th>min</th>\n",
       "      <td>1.470991e+09</td>\n",
       "      <td>-1.325987e+02</td>\n",
       "    </tr>\n",
       "    <tr>\n",
       "      <th>25%</th>\n",
       "      <td>1.471875e+09</td>\n",
       "      <td>4.285743e-04</td>\n",
       "    </tr>\n",
       "    <tr>\n",
       "      <th>50%</th>\n",
       "      <td>1.472889e+09</td>\n",
       "      <td>4.285743e-04</td>\n",
       "    </tr>\n",
       "    <tr>\n",
       "      <th>75%</th>\n",
       "      <td>1.473838e+09</td>\n",
       "      <td>4.285743e-04</td>\n",
       "    </tr>\n",
       "    <tr>\n",
       "      <th>max</th>\n",
       "      <td>1.474787e+09</td>\n",
       "      <td>8.827266e+00</td>\n",
       "    </tr>\n",
       "  </tbody>\n",
       "</table>\n",
       "</div>"
      ],
      "text/plain": [
       "          timestamp         value\n",
       "count  6.327100e+04  6.327000e+04\n",
       "mean   1.472876e+09 -7.743029e-16\n",
       "std    1.084169e+06  1.000000e+00\n",
       "min    1.470991e+09 -1.325987e+02\n",
       "25%    1.471875e+09  4.285743e-04\n",
       "50%    1.472889e+09  4.285743e-04\n",
       "75%    1.473838e+09  4.285743e-04\n",
       "max    1.474787e+09  8.827266e+00"
      ]
     },
     "execution_count": 17,
     "metadata": {},
     "output_type": "execute_result"
    }
   ],
   "source": [
    "df_sampled[df_sampled['KPI ID'] == ids[9]].describe()"
   ]
  },
  {
   "cell_type": "code",
   "execution_count": 19,
   "metadata": {},
   "outputs": [],
   "source": [
    "df_sampled.loc[df_sampled['value'].isnull(), 'value'] = 0.0"
   ]
  },
  {
   "cell_type": "code",
   "execution_count": 21,
   "metadata": {},
   "outputs": [],
   "source": [
    "df_sampled.to_csv('../../data/test_snd.csv')"
   ]
  },
  {
   "cell_type": "code",
   "execution_count": null,
   "metadata": {},
   "outputs": [],
   "source": []
  }
 ],
 "metadata": {
  "kernelspec": {
   "display_name": "Python [default]",
   "language": "python",
   "name": "python3"
  },
  "language_info": {
   "codemirror_mode": {
    "name": "ipython",
    "version": 3
   },
   "file_extension": ".py",
   "mimetype": "text/x-python",
   "name": "python",
   "nbconvert_exporter": "python",
   "pygments_lexer": "ipython3",
   "version": "3.6.5"
  }
 },
 "nbformat": 4,
 "nbformat_minor": 2
}
