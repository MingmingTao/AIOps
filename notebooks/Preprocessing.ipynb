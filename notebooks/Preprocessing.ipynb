{
 "cells": [
  {
   "cell_type": "code",
   "execution_count": 1,
   "metadata": {},
   "outputs": [],
   "source": [
    "import datetime\n",
    "import numpy as np\n",
    "import pandas as pd\n",
    "from pandas import Series\n",
    "from itertools import groupby\n",
    "import matplotlib.pyplot as plt\n",
    "\n",
    "%matplotlib inline  "
   ]
  },
  {
   "cell_type": "code",
   "execution_count": 2,
   "metadata": {},
   "outputs": [],
   "source": [
    "df = pd.read_csv('../../data/train.csv')\n",
    "df['original'] = True\n",
    "ids = df['KPI ID'].unique()"
   ]
  },
  {
   "cell_type": "code",
   "execution_count": 3,
   "metadata": {},
   "outputs": [
    {
     "data": {
      "text/html": [
       "<div>\n",
       "<style scoped>\n",
       "    .dataframe tbody tr th:only-of-type {\n",
       "        vertical-align: middle;\n",
       "    }\n",
       "\n",
       "    .dataframe tbody tr th {\n",
       "        vertical-align: top;\n",
       "    }\n",
       "\n",
       "    .dataframe thead th {\n",
       "        text-align: right;\n",
       "    }\n",
       "</style>\n",
       "<table border=\"1\" class=\"dataframe\">\n",
       "  <thead>\n",
       "    <tr style=\"text-align: right;\">\n",
       "      <th></th>\n",
       "      <th>timestamp</th>\n",
       "      <th>value</th>\n",
       "      <th>label</th>\n",
       "      <th>KPI ID</th>\n",
       "      <th>original</th>\n",
       "    </tr>\n",
       "  </thead>\n",
       "  <tbody>\n",
       "    <tr>\n",
       "      <th>0</th>\n",
       "      <td>1493568000</td>\n",
       "      <td>1.901639</td>\n",
       "      <td>0</td>\n",
       "      <td>02e99bd4f6cfb33f</td>\n",
       "      <td>True</td>\n",
       "    </tr>\n",
       "    <tr>\n",
       "      <th>1</th>\n",
       "      <td>1493568060</td>\n",
       "      <td>1.786885</td>\n",
       "      <td>0</td>\n",
       "      <td>02e99bd4f6cfb33f</td>\n",
       "      <td>True</td>\n",
       "    </tr>\n",
       "    <tr>\n",
       "      <th>2</th>\n",
       "      <td>1493568120</td>\n",
       "      <td>2.000000</td>\n",
       "      <td>0</td>\n",
       "      <td>02e99bd4f6cfb33f</td>\n",
       "      <td>True</td>\n",
       "    </tr>\n",
       "    <tr>\n",
       "      <th>3</th>\n",
       "      <td>1493568180</td>\n",
       "      <td>1.885246</td>\n",
       "      <td>0</td>\n",
       "      <td>02e99bd4f6cfb33f</td>\n",
       "      <td>True</td>\n",
       "    </tr>\n",
       "    <tr>\n",
       "      <th>4</th>\n",
       "      <td>1493568240</td>\n",
       "      <td>1.819672</td>\n",
       "      <td>0</td>\n",
       "      <td>02e99bd4f6cfb33f</td>\n",
       "      <td>True</td>\n",
       "    </tr>\n",
       "  </tbody>\n",
       "</table>\n",
       "</div>"
      ],
      "text/plain": [
       "    timestamp     value  label            KPI ID  original\n",
       "0  1493568000  1.901639      0  02e99bd4f6cfb33f      True\n",
       "1  1493568060  1.786885      0  02e99bd4f6cfb33f      True\n",
       "2  1493568120  2.000000      0  02e99bd4f6cfb33f      True\n",
       "3  1493568180  1.885246      0  02e99bd4f6cfb33f      True\n",
       "4  1493568240  1.819672      0  02e99bd4f6cfb33f      True"
      ]
     },
     "execution_count": 3,
     "metadata": {},
     "output_type": "execute_result"
    }
   ],
   "source": [
    "df.head()"
   ]
  },
  {
   "cell_type": "code",
   "execution_count": 4,
   "metadata": {},
   "outputs": [
    {
     "data": {
      "text/plain": [
       "count    2.476315e+06\n",
       "mean     1.495904e+09\n",
       "std      4.479875e+06\n",
       "min      1.467302e+09\n",
       "25%      1.494256e+09\n",
       "50%      1.496356e+09\n",
       "75%      1.498562e+09\n",
       "max      1.502447e+09\n",
       "Name: timestamp, dtype: float64"
      ]
     },
     "execution_count": 4,
     "metadata": {},
     "output_type": "execute_result"
    }
   ],
   "source": [
    "df['timestamp'].describe()"
   ]
  },
  {
   "cell_type": "code",
   "execution_count": 5,
   "metadata": {},
   "outputs": [
    {
     "name": "stderr",
     "output_type": "stream",
     "text": [
      "/Users/alex/anaconda/lib/python3.6/site-packages/ipykernel/__main__.py:5: SettingWithCopyWarning: \n",
      "A value is trying to be set on a copy of a slice from a DataFrame.\n",
      "Try using .loc[row_indexer,col_indexer] = value instead\n",
      "\n",
      "See the caveats in the documentation: http://pandas.pydata.org/pandas-docs/stable/indexing.html#indexing-view-versus-copy\n",
      "/Users/alex/anaconda/lib/python3.6/site-packages/ipykernel/__main__.py:5: SettingWithCopyWarning: \n",
      "A value is trying to be set on a copy of a slice from a DataFrame.\n",
      "Try using .loc[row_indexer,col_indexer] = value instead\n",
      "\n",
      "See the caveats in the documentation: http://pandas.pydata.org/pandas-docs/stable/indexing.html#indexing-view-versus-copy\n"
     ]
    }
   ],
   "source": [
    "# train set\n",
    "dfs = []\n",
    "for _id in ids:\n",
    "    df_tmp = df[df['KPI ID'] == _id]\n",
    "    df_tmp['datetime'] = pd.to_datetime(df_tmp['timestamp'], unit = 's')\n",
    "    df_tmp = df_tmp.set_index('datetime')\n",
    "    df_tmp = df_tmp.sort_index()\n",
    "    \n",
    "    df_tmp_value = df_tmp['value'].resample('1T').interpolate()\n",
    "    df_tmp_label = df_tmp['label'].resample('1T').ffill()\n",
    "\n",
    "    df_tmp = pd.concat([df_tmp_value, df_tmp_label], axis=1, join='inner')\n",
    "    df_tmp.insert(1, 'KPI ID', _id)\n",
    "    df_tmp['timestamp'] = (df_tmp_value.index.astype('int64') // 1e9).astype('int64')\n",
    "    \n",
    "    df_tmp['id'] = df_tmp['KPI ID'] + '-' + df_tmp.index.astype('str')\n",
    "    df_tmp = df_tmp.set_index('id')\n",
    "    dfs.append(df_tmp)\n",
    "\n",
    "df_upsampled = pd.concat(dfs)"
   ]
  },
  {
   "cell_type": "code",
   "execution_count": null,
   "metadata": {},
   "outputs": [],
   "source": [
    "# test set\n",
    "dfs = []\n",
    "for _id in ids:\n",
    "    df_tmp = df[df['KPI ID'] == _id]\n",
    "    df_tmp['datetime'] = pd.to_datetime(df_tmp['timestamp'], unit = 's')\n",
    "    df_tmp = df_tmp.set_index('datetime')\n",
    "    df_tmp = df_tmp.sort_index()\n",
    "    \n",
    "    df_tmp_value = df_tmp['value'].resample('1T').interpolate()\n",
    "    df_tmp_label = df_tmp['label'].resample('1T').ffill()\n",
    "\n",
    "    df_tmp = pd.concat([df_tmp_value, df_tmp_label], axis=1, join='inner')\n",
    "    df_tmp.insert(1, 'KPI ID', _id)\n",
    "    df_tmp['timestamp'] = (df_tmp_value.index.astype('int64') // 1e9).astype('int64')\n",
    "    \n",
    "    df_tmp['id'] = df_tmp['KPI ID'] + '-' + df_tmp.index.astype('str')\n",
    "    df_tmp = df_tmp.set_index('id')\n",
    "    dfs.append(df_tmp)\n",
    "\n",
    "df_upsampled = pd.concat(dfs)"
   ]
  },
  {
   "cell_type": "code",
   "execution_count": 6,
   "metadata": {},
   "outputs": [
    {
     "name": "stderr",
     "output_type": "stream",
     "text": [
      "/Users/alex/anaconda/lib/python3.6/site-packages/ipykernel/__main__.py:4: SettingWithCopyWarning: \n",
      "A value is trying to be set on a copy of a slice from a DataFrame.\n",
      "Try using .loc[row_indexer,col_indexer] = value instead\n",
      "\n",
      "See the caveats in the documentation: http://pandas.pydata.org/pandas-docs/stable/indexing.html#indexing-view-versus-copy\n"
     ]
    }
   ],
   "source": [
    "# normalization\n",
    "for _id in ids:\n",
    "    df_tmp = df_upsampled[df_upsampled['KPI ID'] == _id]\n",
    "    df_tmp['value_diff'] = df_tmp['value'].diff()\n",
    "    \n",
    "    df_upsampled.loc[df_upsampled['KPI ID'] == _id, 'value'] = (df_tmp['value'] - df_tmp['value'].mean()) / df_tmp['value'].std()\n",
    "    df_upsampled.loc[df_upsampled['KPI ID'] == _id, 'value_diff'] = (df_tmp['value_diff'] - df_tmp['value_diff'].mean()) / df_tmp['value_diff'].std()"
   ]
  },
  {
   "cell_type": "code",
   "execution_count": 7,
   "metadata": {},
   "outputs": [],
   "source": [
    "df_upsampled.loc[df_upsampled['value_diff'].isnull(), 'value_diff'] = 0.0"
   ]
  },
  {
   "cell_type": "code",
   "execution_count": 8,
   "metadata": {},
   "outputs": [
    {
     "data": {
      "text/html": [
       "<div>\n",
       "<style scoped>\n",
       "    .dataframe tbody tr th:only-of-type {\n",
       "        vertical-align: middle;\n",
       "    }\n",
       "\n",
       "    .dataframe tbody tr th {\n",
       "        vertical-align: top;\n",
       "    }\n",
       "\n",
       "    .dataframe thead th {\n",
       "        text-align: right;\n",
       "    }\n",
       "</style>\n",
       "<table border=\"1\" class=\"dataframe\">\n",
       "  <thead>\n",
       "    <tr style=\"text-align: right;\">\n",
       "      <th></th>\n",
       "      <th>value</th>\n",
       "      <th>KPI ID</th>\n",
       "      <th>label</th>\n",
       "      <th>timestamp</th>\n",
       "      <th>value_diff</th>\n",
       "    </tr>\n",
       "    <tr>\n",
       "      <th>id</th>\n",
       "      <th></th>\n",
       "      <th></th>\n",
       "      <th></th>\n",
       "      <th></th>\n",
       "      <th></th>\n",
       "    </tr>\n",
       "  </thead>\n",
       "  <tbody>\n",
       "    <tr>\n",
       "      <th>02e99bd4f6cfb33f-2017-04-30 16:00:00</th>\n",
       "      <td>-0.080901</td>\n",
       "      <td>02e99bd4f6cfb33f</td>\n",
       "      <td>0</td>\n",
       "      <td>1493568000</td>\n",
       "      <td>0.000000</td>\n",
       "    </tr>\n",
       "    <tr>\n",
       "      <th>02e99bd4f6cfb33f-2017-04-30 16:01:00</th>\n",
       "      <td>-0.256014</td>\n",
       "      <td>02e99bd4f6cfb33f</td>\n",
       "      <td>0</td>\n",
       "      <td>1493568060</td>\n",
       "      <td>-0.570665</td>\n",
       "    </tr>\n",
       "    <tr>\n",
       "      <th>02e99bd4f6cfb33f-2017-04-30 16:02:00</th>\n",
       "      <td>0.069196</td>\n",
       "      <td>02e99bd4f6cfb33f</td>\n",
       "      <td>0</td>\n",
       "      <td>1493568120</td>\n",
       "      <td>1.059743</td>\n",
       "    </tr>\n",
       "    <tr>\n",
       "      <th>02e99bd4f6cfb33f-2017-04-30 16:03:00</th>\n",
       "      <td>-0.105917</td>\n",
       "      <td>02e99bd4f6cfb33f</td>\n",
       "      <td>0</td>\n",
       "      <td>1493568180</td>\n",
       "      <td>-0.570665</td>\n",
       "    </tr>\n",
       "    <tr>\n",
       "      <th>02e99bd4f6cfb33f-2017-04-30 16:04:00</th>\n",
       "      <td>-0.205981</td>\n",
       "      <td>02e99bd4f6cfb33f</td>\n",
       "      <td>0</td>\n",
       "      <td>1493568240</td>\n",
       "      <td>-0.326104</td>\n",
       "    </tr>\n",
       "  </tbody>\n",
       "</table>\n",
       "</div>"
      ],
      "text/plain": [
       "                                         value            KPI ID  label  \\\n",
       "id                                                                        \n",
       "02e99bd4f6cfb33f-2017-04-30 16:00:00 -0.080901  02e99bd4f6cfb33f      0   \n",
       "02e99bd4f6cfb33f-2017-04-30 16:01:00 -0.256014  02e99bd4f6cfb33f      0   \n",
       "02e99bd4f6cfb33f-2017-04-30 16:02:00  0.069196  02e99bd4f6cfb33f      0   \n",
       "02e99bd4f6cfb33f-2017-04-30 16:03:00 -0.105917  02e99bd4f6cfb33f      0   \n",
       "02e99bd4f6cfb33f-2017-04-30 16:04:00 -0.205981  02e99bd4f6cfb33f      0   \n",
       "\n",
       "                                       timestamp  value_diff  \n",
       "id                                                            \n",
       "02e99bd4f6cfb33f-2017-04-30 16:00:00  1493568000    0.000000  \n",
       "02e99bd4f6cfb33f-2017-04-30 16:01:00  1493568060   -0.570665  \n",
       "02e99bd4f6cfb33f-2017-04-30 16:02:00  1493568120    1.059743  \n",
       "02e99bd4f6cfb33f-2017-04-30 16:03:00  1493568180   -0.570665  \n",
       "02e99bd4f6cfb33f-2017-04-30 16:04:00  1493568240   -0.326104  "
      ]
     },
     "execution_count": 8,
     "metadata": {},
     "output_type": "execute_result"
    }
   ],
   "source": [
    "df_upsampled.head()"
   ]
  },
  {
   "cell_type": "code",
   "execution_count": null,
   "metadata": {},
   "outputs": [],
   "source": []
  }
 ],
 "metadata": {
  "kernelspec": {
   "display_name": "Python [conda env:anaconda]",
   "language": "python",
   "name": "conda-env-anaconda-py"
  },
  "language_info": {
   "codemirror_mode": {
    "name": "ipython",
    "version": 3
   },
   "file_extension": ".py",
   "mimetype": "text/x-python",
   "name": "python",
   "nbconvert_exporter": "python",
   "pygments_lexer": "ipython3",
   "version": "3.6.5"
  }
 },
 "nbformat": 4,
 "nbformat_minor": 2
}
