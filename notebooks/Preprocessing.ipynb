{
 "cells": [
  {
   "cell_type": "code",
   "execution_count": 1,
   "metadata": {},
   "outputs": [],
   "source": [
    "import datetime\n",
    "import numpy as np\n",
    "import pandas as pd\n",
    "from pandas import Series\n",
    "from itertools import groupby\n",
    "import matplotlib.pyplot as plt\n",
    "\n",
    "%matplotlib inline  "
   ]
  },
  {
   "cell_type": "code",
   "execution_count": 156,
   "metadata": {},
   "outputs": [],
   "source": [
    "df = pd.read_csv('../../data/train.csv')\n",
    "ids = df['KPI ID'].unique()"
   ]
  },
  {
   "cell_type": "code",
   "execution_count": 3,
   "metadata": {},
   "outputs": [
    {
     "data": {
      "text/html": [
       "<div>\n",
       "<style scoped>\n",
       "    .dataframe tbody tr th:only-of-type {\n",
       "        vertical-align: middle;\n",
       "    }\n",
       "\n",
       "    .dataframe tbody tr th {\n",
       "        vertical-align: top;\n",
       "    }\n",
       "\n",
       "    .dataframe thead th {\n",
       "        text-align: right;\n",
       "    }\n",
       "</style>\n",
       "<table border=\"1\" class=\"dataframe\">\n",
       "  <thead>\n",
       "    <tr style=\"text-align: right;\">\n",
       "      <th></th>\n",
       "      <th>timestamp</th>\n",
       "      <th>value</th>\n",
       "      <th>label</th>\n",
       "      <th>KPI ID</th>\n",
       "    </tr>\n",
       "  </thead>\n",
       "  <tbody>\n",
       "    <tr>\n",
       "      <th>0</th>\n",
       "      <td>1493568000</td>\n",
       "      <td>1.901639</td>\n",
       "      <td>0</td>\n",
       "      <td>02e99bd4f6cfb33f</td>\n",
       "    </tr>\n",
       "    <tr>\n",
       "      <th>1</th>\n",
       "      <td>1493568060</td>\n",
       "      <td>1.786885</td>\n",
       "      <td>0</td>\n",
       "      <td>02e99bd4f6cfb33f</td>\n",
       "    </tr>\n",
       "    <tr>\n",
       "      <th>2</th>\n",
       "      <td>1493568120</td>\n",
       "      <td>2.000000</td>\n",
       "      <td>0</td>\n",
       "      <td>02e99bd4f6cfb33f</td>\n",
       "    </tr>\n",
       "    <tr>\n",
       "      <th>3</th>\n",
       "      <td>1493568180</td>\n",
       "      <td>1.885246</td>\n",
       "      <td>0</td>\n",
       "      <td>02e99bd4f6cfb33f</td>\n",
       "    </tr>\n",
       "    <tr>\n",
       "      <th>4</th>\n",
       "      <td>1493568240</td>\n",
       "      <td>1.819672</td>\n",
       "      <td>0</td>\n",
       "      <td>02e99bd4f6cfb33f</td>\n",
       "    </tr>\n",
       "  </tbody>\n",
       "</table>\n",
       "</div>"
      ],
      "text/plain": [
       "    timestamp     value  label            KPI ID\n",
       "0  1493568000  1.901639      0  02e99bd4f6cfb33f\n",
       "1  1493568060  1.786885      0  02e99bd4f6cfb33f\n",
       "2  1493568120  2.000000      0  02e99bd4f6cfb33f\n",
       "3  1493568180  1.885246      0  02e99bd4f6cfb33f\n",
       "4  1493568240  1.819672      0  02e99bd4f6cfb33f"
      ]
     },
     "execution_count": 3,
     "metadata": {},
     "output_type": "execute_result"
    }
   ],
   "source": [
    "df.head()"
   ]
  },
  {
   "cell_type": "code",
   "execution_count": 4,
   "metadata": {},
   "outputs": [
    {
     "data": {
      "text/plain": [
       "0    2422815\n",
       "1      53500\n",
       "Name: label, dtype: int64"
      ]
     },
     "execution_count": 4,
     "metadata": {},
     "output_type": "execute_result"
    }
   ],
   "source": [
    "df['label'].value_counts()"
   ]
  },
  {
   "cell_type": "code",
   "execution_count": 5,
   "metadata": {},
   "outputs": [
    {
     "data": {
      "text/plain": [
       "count    2.476315e+06\n",
       "mean     1.080211e+08\n",
       "std      3.196926e+08\n",
       "min     -4.546069e+00\n",
       "25%      3.700000e+00\n",
       "50%      1.293438e+03\n",
       "75%      2.523000e+03\n",
       "max      1.608813e+09\n",
       "Name: value, dtype: float64"
      ]
     },
     "execution_count": 5,
     "metadata": {},
     "output_type": "execute_result"
    }
   ],
   "source": [
    "df['value'].describe()"
   ]
  },
  {
   "cell_type": "code",
   "execution_count": 157,
   "metadata": {},
   "outputs": [
    {
     "name": "stderr",
     "output_type": "stream",
     "text": [
      "/Users/alex/anaconda/lib/python3.6/site-packages/ipykernel/__main__.py:5: SettingWithCopyWarning: \n",
      "A value is trying to be set on a copy of a slice from a DataFrame.\n",
      "Try using .loc[row_indexer,col_indexer] = value instead\n",
      "\n",
      "See the caveats in the documentation: http://pandas.pydata.org/pandas-docs/stable/indexing.html#indexing-view-versus-copy\n"
     ]
    },
    {
     "name": "stdout",
     "output_type": "stream",
     "text": [
      "Done with 02e99bd4f6cfb33f\n",
      "Done with 9bd90500bfd11edb\n",
      "Done with da403e4e3f87c9e0\n",
      "Done with a5bf5d65261d859a\n",
      "Done with 18fbb1d5a5dc099d\n",
      "Done with 09513ae3e75778a3\n",
      "Done with c58bfcbacb2822d1\n",
      "Done with 1c35dbf57f55f5e4\n",
      "Done with 046ec29ddf80d62e\n",
      "Done with 07927a9a18fa19ae\n",
      "Done with 54e8a140f6237526\n",
      "Done with b3b2e6d1a791d63a\n",
      "Done with 8a20c229e9860d0c\n",
      "Done with 769894baefea4e9e\n",
      "Done with 76f4550c43334374\n",
      "Done with e0770391decc44ce\n",
      "Done with 8c892e5525f3e491\n",
      "Done with 40e25005ff8992bd\n",
      "Done with cff6d3c01e6a6bfa\n",
      "Done with 71595dd7171f4540\n",
      "Done with 7c189dd36f048a6c\n",
      "Done with a40b1df87e3f1c87\n",
      "Done with 8bef9af9a922e0b3\n",
      "Done with affb01ca2b4f0b45\n",
      "Done with 9ee5879409dccef9\n",
      "Done with 88cf3a776ba00e7c\n"
     ]
    }
   ],
   "source": [
    "# upsampling\n",
    "dfs = []\n",
    "for _id in ids:\n",
    "    df_tmp = df[df['KPI ID'] == _id]\n",
    "    df_tmp['datetime'] = pd.to_datetime(df_tmp['timestamp'], unit='s')\n",
    "    df_tmp = df_tmp.set_index('datetime')\n",
    "    df_tmp = df_tmp.sort_index()\n",
    "    df_tmp = df_tmp.resample('1T').ffill()\n",
    "    \n",
    "    df_tmp['id'] = df_tmp['KPI ID'] + '-' + df_tmp.index.astype('str') \n",
    "    df_tmp = df_tmp.set_index('id')\n",
    "    \n",
    "    dfs.append(df_tmp)\n",
    "    print(f'Done with {_id}')\n",
    "    \n",
    "df_sampled = pd.concat(dfs)"
   ]
  },
  {
   "cell_type": "code",
   "execution_count": 188,
   "metadata": {},
   "outputs": [
    {
     "data": {
      "text/html": [
       "<div>\n",
       "<style scoped>\n",
       "    .dataframe tbody tr th:only-of-type {\n",
       "        vertical-align: middle;\n",
       "    }\n",
       "\n",
       "    .dataframe tbody tr th {\n",
       "        vertical-align: top;\n",
       "    }\n",
       "\n",
       "    .dataframe thead th {\n",
       "        text-align: right;\n",
       "    }\n",
       "</style>\n",
       "<table border=\"1\" class=\"dataframe\">\n",
       "  <thead>\n",
       "    <tr style=\"text-align: right;\">\n",
       "      <th></th>\n",
       "      <th>timestamp</th>\n",
       "      <th>value</th>\n",
       "      <th>label</th>\n",
       "    </tr>\n",
       "  </thead>\n",
       "  <tbody>\n",
       "    <tr>\n",
       "      <th>count</th>\n",
       "      <td>1.317950e+05</td>\n",
       "      <td>131795.000000</td>\n",
       "      <td>131795.000000</td>\n",
       "    </tr>\n",
       "    <tr>\n",
       "      <th>mean</th>\n",
       "      <td>1.497521e+09</td>\n",
       "      <td>31.687321</td>\n",
       "      <td>0.001085</td>\n",
       "    </tr>\n",
       "    <tr>\n",
       "      <th>std</th>\n",
       "      <td>2.283075e+06</td>\n",
       "      <td>11.790595</td>\n",
       "      <td>0.032922</td>\n",
       "    </tr>\n",
       "    <tr>\n",
       "      <th>min</th>\n",
       "      <td>1.493568e+09</td>\n",
       "      <td>5.333333</td>\n",
       "      <td>0.000000</td>\n",
       "    </tr>\n",
       "    <tr>\n",
       "      <th>25%</th>\n",
       "      <td>1.495545e+09</td>\n",
       "      <td>22.916666</td>\n",
       "      <td>0.000000</td>\n",
       "    </tr>\n",
       "    <tr>\n",
       "      <th>50%</th>\n",
       "      <td>1.497522e+09</td>\n",
       "      <td>30.076923</td>\n",
       "      <td>0.000000</td>\n",
       "    </tr>\n",
       "    <tr>\n",
       "      <th>75%</th>\n",
       "      <td>1.499499e+09</td>\n",
       "      <td>38.099998</td>\n",
       "      <td>0.000000</td>\n",
       "    </tr>\n",
       "    <tr>\n",
       "      <th>max</th>\n",
       "      <td>1.501476e+09</td>\n",
       "      <td>91.307693</td>\n",
       "      <td>1.000000</td>\n",
       "    </tr>\n",
       "  </tbody>\n",
       "</table>\n",
       "</div>"
      ],
      "text/plain": [
       "          timestamp          value          label\n",
       "count  1.317950e+05  131795.000000  131795.000000\n",
       "mean   1.497521e+09      31.687321       0.001085\n",
       "std    2.283075e+06      11.790595       0.032922\n",
       "min    1.493568e+09       5.333333       0.000000\n",
       "25%    1.495545e+09      22.916666       0.000000\n",
       "50%    1.497522e+09      30.076923       0.000000\n",
       "75%    1.499499e+09      38.099998       0.000000\n",
       "max    1.501476e+09      91.307693       1.000000"
      ]
     },
     "execution_count": 188,
     "metadata": {},
     "output_type": "execute_result"
    }
   ],
   "source": [
    "df_sampled[df_sampled['KPI ID'] == ids[1]].describe()"
   ]
  },
  {
   "cell_type": "code",
   "execution_count": 189,
   "metadata": {},
   "outputs": [],
   "source": [
    "# normalization\n",
    "for _id in ids:\n",
    "    df_tmp = df_sampled[df_sampled['KPI ID'] == _id]['value']\n",
    "    df_sampled.loc[df_sampled['KPI ID'] == _id, 'value'] = (df_tmp - df_tmp.mean()) / df_tmp.std()"
   ]
  },
  {
   "cell_type": "code",
   "execution_count": 191,
   "metadata": {},
   "outputs": [
    {
     "data": {
      "text/html": [
       "<div>\n",
       "<style scoped>\n",
       "    .dataframe tbody tr th:only-of-type {\n",
       "        vertical-align: middle;\n",
       "    }\n",
       "\n",
       "    .dataframe tbody tr th {\n",
       "        vertical-align: top;\n",
       "    }\n",
       "\n",
       "    .dataframe thead th {\n",
       "        text-align: right;\n",
       "    }\n",
       "</style>\n",
       "<table border=\"1\" class=\"dataframe\">\n",
       "  <thead>\n",
       "    <tr style=\"text-align: right;\">\n",
       "      <th></th>\n",
       "      <th>timestamp</th>\n",
       "      <th>value</th>\n",
       "      <th>label</th>\n",
       "    </tr>\n",
       "  </thead>\n",
       "  <tbody>\n",
       "    <tr>\n",
       "      <th>count</th>\n",
       "      <td>1.317900e+05</td>\n",
       "      <td>1.317900e+05</td>\n",
       "      <td>131790.000000</td>\n",
       "    </tr>\n",
       "    <tr>\n",
       "      <th>mean</th>\n",
       "      <td>1.497521e+09</td>\n",
       "      <td>6.071169e-14</td>\n",
       "      <td>0.058183</td>\n",
       "    </tr>\n",
       "    <tr>\n",
       "      <th>std</th>\n",
       "      <td>2.283031e+06</td>\n",
       "      <td>1.000000e+00</td>\n",
       "      <td>0.234091</td>\n",
       "    </tr>\n",
       "    <tr>\n",
       "      <th>min</th>\n",
       "      <td>1.493568e+09</td>\n",
       "      <td>-2.146061e+00</td>\n",
       "      <td>0.000000</td>\n",
       "    </tr>\n",
       "    <tr>\n",
       "      <th>25%</th>\n",
       "      <td>1.495545e+09</td>\n",
       "      <td>-4.766835e-01</td>\n",
       "      <td>0.000000</td>\n",
       "    </tr>\n",
       "    <tr>\n",
       "      <th>50%</th>\n",
       "      <td>1.497522e+09</td>\n",
       "      <td>-1.863569e-01</td>\n",
       "      <td>0.000000</td>\n",
       "    </tr>\n",
       "    <tr>\n",
       "      <th>75%</th>\n",
       "      <td>1.499499e+09</td>\n",
       "      <td>5.394593e-01</td>\n",
       "      <td>0.000000</td>\n",
       "    </tr>\n",
       "    <tr>\n",
       "      <th>max</th>\n",
       "      <td>1.501475e+09</td>\n",
       "      <td>1.462030e+01</td>\n",
       "      <td>1.000000</td>\n",
       "    </tr>\n",
       "  </tbody>\n",
       "</table>\n",
       "</div>"
      ],
      "text/plain": [
       "          timestamp         value          label\n",
       "count  1.317900e+05  1.317900e+05  131790.000000\n",
       "mean   1.497521e+09  6.071169e-14       0.058183\n",
       "std    2.283031e+06  1.000000e+00       0.234091\n",
       "min    1.493568e+09 -2.146061e+00       0.000000\n",
       "25%    1.495545e+09 -4.766835e-01       0.000000\n",
       "50%    1.497522e+09 -1.863569e-01       0.000000\n",
       "75%    1.499499e+09  5.394593e-01       0.000000\n",
       "max    1.501475e+09  1.462030e+01       1.000000"
      ]
     },
     "execution_count": 191,
     "metadata": {},
     "output_type": "execute_result"
    }
   ],
   "source": [
    "df_sampled[df_sampled['KPI ID'] == ids[2]].describe()"
   ]
  },
  {
   "cell_type": "code",
   "execution_count": 193,
   "metadata": {},
   "outputs": [],
   "source": [
    "df_sampled.to_csv('../../data/train_sampled_normalized.csv')"
   ]
  },
  {
   "cell_type": "code",
   "execution_count": null,
   "metadata": {},
   "outputs": [],
   "source": []
  }
 ],
 "metadata": {
  "kernelspec": {
   "display_name": "Python [default]",
   "language": "python",
   "name": "python3"
  },
  "language_info": {
   "codemirror_mode": {
    "name": "ipython",
    "version": 3
   },
   "file_extension": ".py",
   "mimetype": "text/x-python",
   "name": "python",
   "nbconvert_exporter": "python",
   "pygments_lexer": "ipython3",
   "version": "3.6.5"
  }
 },
 "nbformat": 4,
 "nbformat_minor": 2
}
