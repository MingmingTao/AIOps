{
 "cells": [
  {
   "cell_type": "code",
   "execution_count": 1,
   "metadata": {},
   "outputs": [],
   "source": [
    "import datetime\n",
    "import numpy as np\n",
    "import pandas as pd\n",
    "from pandas import Series\n",
    "from itertools import groupby\n",
    "import matplotlib.pyplot as plt\n",
    "\n",
    "%matplotlib inline  "
   ]
  },
  {
   "cell_type": "code",
   "execution_count": 2,
   "metadata": {},
   "outputs": [],
   "source": [
    "df = pd.read_csv('../../data/train.csv')\n",
    "ids = df['KPI ID'].unique()"
   ]
  },
  {
   "cell_type": "code",
   "execution_count": 4,
   "metadata": {},
   "outputs": [
    {
     "data": {
      "text/html": [
       "<div>\n",
       "<style scoped>\n",
       "    .dataframe tbody tr th:only-of-type {\n",
       "        vertical-align: middle;\n",
       "    }\n",
       "\n",
       "    .dataframe tbody tr th {\n",
       "        vertical-align: top;\n",
       "    }\n",
       "\n",
       "    .dataframe thead th {\n",
       "        text-align: right;\n",
       "    }\n",
       "</style>\n",
       "<table border=\"1\" class=\"dataframe\">\n",
       "  <thead>\n",
       "    <tr style=\"text-align: right;\">\n",
       "      <th></th>\n",
       "      <th>timestamp</th>\n",
       "      <th>value</th>\n",
       "      <th>label</th>\n",
       "      <th>KPI ID</th>\n",
       "    </tr>\n",
       "  </thead>\n",
       "  <tbody>\n",
       "    <tr>\n",
       "      <th>0</th>\n",
       "      <td>1493568000</td>\n",
       "      <td>1.901639</td>\n",
       "      <td>0.0</td>\n",
       "      <td>02e99bd4f6cfb33f</td>\n",
       "    </tr>\n",
       "    <tr>\n",
       "      <th>1</th>\n",
       "      <td>1493568060</td>\n",
       "      <td>1.786885</td>\n",
       "      <td>0.0</td>\n",
       "      <td>02e99bd4f6cfb33f</td>\n",
       "    </tr>\n",
       "    <tr>\n",
       "      <th>2</th>\n",
       "      <td>1493568120</td>\n",
       "      <td>2.000000</td>\n",
       "      <td>0.0</td>\n",
       "      <td>02e99bd4f6cfb33f</td>\n",
       "    </tr>\n",
       "    <tr>\n",
       "      <th>3</th>\n",
       "      <td>1493568180</td>\n",
       "      <td>1.885246</td>\n",
       "      <td>0.0</td>\n",
       "      <td>02e99bd4f6cfb33f</td>\n",
       "    </tr>\n",
       "    <tr>\n",
       "      <th>4</th>\n",
       "      <td>1493568240</td>\n",
       "      <td>1.819672</td>\n",
       "      <td>0.0</td>\n",
       "      <td>02e99bd4f6cfb33f</td>\n",
       "    </tr>\n",
       "  </tbody>\n",
       "</table>\n",
       "</div>"
      ],
      "text/plain": [
       "    timestamp     value  label            KPI ID\n",
       "0  1493568000  1.901639    0.0  02e99bd4f6cfb33f\n",
       "1  1493568060  1.786885    0.0  02e99bd4f6cfb33f\n",
       "2  1493568120  2.000000    0.0  02e99bd4f6cfb33f\n",
       "3  1493568180  1.885246    0.0  02e99bd4f6cfb33f\n",
       "4  1493568240  1.819672    0.0  02e99bd4f6cfb33f"
      ]
     },
     "execution_count": 4,
     "metadata": {},
     "output_type": "execute_result"
    }
   ],
   "source": [
    "df.head()"
   ]
  },
  {
   "cell_type": "code",
   "execution_count": 5,
   "metadata": {},
   "outputs": [
    {
     "data": {
      "text/plain": [
       "0.0    255677\n",
       "1.0     10780\n",
       "Name: label, dtype: int64"
      ]
     },
     "execution_count": 5,
     "metadata": {},
     "output_type": "execute_result"
    }
   ],
   "source": [
    "df['label'].value_counts()"
   ]
  },
  {
   "cell_type": "code",
   "execution_count": 6,
   "metadata": {},
   "outputs": [
    {
     "data": {
      "text/plain": [
       "count    266457.000000\n",
       "mean         16.305243\n",
       "std          16.933378\n",
       "min           0.689655\n",
       "25%           2.062500\n",
       "50%           3.333333\n",
       "75%          29.333334\n",
       "max          91.307693\n",
       "Name: value, dtype: float64"
      ]
     },
     "execution_count": 6,
     "metadata": {},
     "output_type": "execute_result"
    }
   ],
   "source": [
    "df['value'].describe()"
   ]
  },
  {
   "cell_type": "code",
   "execution_count": 15,
   "metadata": {},
   "outputs": [
    {
     "name": "stderr",
     "output_type": "stream",
     "text": [
      "/anaconda/envs/py35/lib/python3.5/site-packages/ipykernel_launcher.py:5: SettingWithCopyWarning: \n",
      "A value is trying to be set on a copy of a slice from a DataFrame.\n",
      "Try using .loc[row_indexer,col_indexer] = value instead\n",
      "\n",
      "See the caveats in the documentation: http://pandas.pydata.org/pandas-docs/stable/indexing.html#indexing-view-versus-copy\n",
      "  \"\"\"\n"
     ]
    },
    {
     "name": "stdout",
     "output_type": "stream",
     "text": [
      "Done with {_id}\n",
      "Done with {_id}\n",
      "Done with {_id}\n",
      "Done with {_id}\n",
      "Done with {_id}\n",
      "Done with {_id}\n",
      "Done with {_id}\n",
      "Done with {_id}\n",
      "Done with {_id}\n",
      "Done with {_id}\n",
      "Done with {_id}\n",
      "Done with {_id}\n",
      "Done with {_id}\n",
      "Done with {_id}\n",
      "Done with {_id}\n",
      "Done with {_id}\n",
      "Done with {_id}\n",
      "Done with {_id}\n",
      "Done with {_id}\n",
      "Done with {_id}\n",
      "Done with {_id}\n",
      "Done with {_id}\n",
      "Done with {_id}\n",
      "Done with {_id}\n",
      "Done with {_id}\n",
      "Done with {_id}\n"
     ]
    }
   ],
   "source": [
    "# upsampling\n",
    "dfs = []\n",
    "for _id in ids:\n",
    "    df_tmp = df[df['KPI ID'] == _id]\n",
    "    df_tmp['datetime'] = pd.to_datetime(df_tmp['timestamp'], unit='s')\n",
    "    df_tmp = df_tmp.set_index('datetime')\n",
    "    df_tmp = df_tmp.sort_index()\n",
    "    df_tmp = df_tmp.resample('1T').ffill()\n",
    "    \n",
    "    df_tmp['id'] = df_tmp['KPI ID'] + '-' + df_tmp.index.astype('str') \n",
    "    df_tmp = df_tmp.set_index('id')\n",
    "    \n",
    "    dfs.append(df_tmp)\n",
    "    print('Done with {_id}')\n",
    "    \n",
    "df_sampled = pd.concat(dfs)"
   ]
  },
  {
   "cell_type": "code",
   "execution_count": 16,
   "metadata": {},
   "outputs": [
    {
     "data": {
      "text/html": [
       "<div>\n",
       "<style scoped>\n",
       "    .dataframe tbody tr th:only-of-type {\n",
       "        vertical-align: middle;\n",
       "    }\n",
       "\n",
       "    .dataframe tbody tr th {\n",
       "        vertical-align: top;\n",
       "    }\n",
       "\n",
       "    .dataframe thead th {\n",
       "        text-align: right;\n",
       "    }\n",
       "</style>\n",
       "<table border=\"1\" class=\"dataframe\">\n",
       "  <thead>\n",
       "    <tr style=\"text-align: right;\">\n",
       "      <th></th>\n",
       "      <th>timestamp</th>\n",
       "      <th>value</th>\n",
       "      <th>label</th>\n",
       "    </tr>\n",
       "  </thead>\n",
       "  <tbody>\n",
       "    <tr>\n",
       "      <th>count</th>\n",
       "      <td>2.788680e+06</td>\n",
       "      <td>2.788680e+06</td>\n",
       "      <td>2.788680e+06</td>\n",
       "    </tr>\n",
       "    <tr>\n",
       "      <th>mean</th>\n",
       "      <td>1.493865e+09</td>\n",
       "      <td>9.792458e+07</td>\n",
       "      <td>2.108524e-02</td>\n",
       "    </tr>\n",
       "    <tr>\n",
       "      <th>std</th>\n",
       "      <td>7.829410e+06</td>\n",
       "      <td>3.057543e+08</td>\n",
       "      <td>1.436686e-01</td>\n",
       "    </tr>\n",
       "    <tr>\n",
       "      <th>min</th>\n",
       "      <td>1.467302e+09</td>\n",
       "      <td>-4.546069e+00</td>\n",
       "      <td>0.000000e+00</td>\n",
       "    </tr>\n",
       "    <tr>\n",
       "      <th>25%</th>\n",
       "      <td>1.493635e+09</td>\n",
       "      <td>2.000000e+00</td>\n",
       "      <td>0.000000e+00</td>\n",
       "    </tr>\n",
       "    <tr>\n",
       "      <th>50%</th>\n",
       "      <td>1.495959e+09</td>\n",
       "      <td>1.144000e+03</td>\n",
       "      <td>0.000000e+00</td>\n",
       "    </tr>\n",
       "    <tr>\n",
       "      <th>75%</th>\n",
       "      <td>1.498329e+09</td>\n",
       "      <td>2.372000e+03</td>\n",
       "      <td>0.000000e+00</td>\n",
       "    </tr>\n",
       "    <tr>\n",
       "      <th>max</th>\n",
       "      <td>1.502447e+09</td>\n",
       "      <td>1.608813e+09</td>\n",
       "      <td>1.000000e+00</td>\n",
       "    </tr>\n",
       "  </tbody>\n",
       "</table>\n",
       "</div>"
      ],
      "text/plain": [
       "          timestamp         value         label\n",
       "count  2.788680e+06  2.788680e+06  2.788680e+06\n",
       "mean   1.493865e+09  9.792458e+07  2.108524e-02\n",
       "std    7.829410e+06  3.057543e+08  1.436686e-01\n",
       "min    1.467302e+09 -4.546069e+00  0.000000e+00\n",
       "25%    1.493635e+09  2.000000e+00  0.000000e+00\n",
       "50%    1.495959e+09  1.144000e+03  0.000000e+00\n",
       "75%    1.498329e+09  2.372000e+03  0.000000e+00\n",
       "max    1.502447e+09  1.608813e+09  1.000000e+00"
      ]
     },
     "execution_count": 16,
     "metadata": {},
     "output_type": "execute_result"
    }
   ],
   "source": [
    "df_sampled[df_sampled['KPI ID'] == ids[1]].describe()\n",
    "df_sampled.describe()"
   ]
  },
  {
   "cell_type": "code",
   "execution_count": 13,
   "metadata": {},
   "outputs": [],
   "source": [
    "# normalization\n",
    "for _id in ids:\n",
    "    df_tmp = df_sampled[df_sampled['KPI ID'] == _id]['value']\n",
    "    df_sampled.loc[df_sampled['KPI ID'] == _id, 'value'] = (df_tmp - df_tmp.mean()) / df_tmp.std()"
   ]
  },
  {
   "cell_type": "code",
   "execution_count": 14,
   "metadata": {},
   "outputs": [
    {
     "data": {
      "text/html": [
       "<div>\n",
       "<style scoped>\n",
       "    .dataframe tbody tr th:only-of-type {\n",
       "        vertical-align: middle;\n",
       "    }\n",
       "\n",
       "    .dataframe tbody tr th {\n",
       "        vertical-align: top;\n",
       "    }\n",
       "\n",
       "    .dataframe thead th {\n",
       "        text-align: right;\n",
       "    }\n",
       "</style>\n",
       "<table border=\"1\" class=\"dataframe\">\n",
       "  <thead>\n",
       "    <tr style=\"text-align: right;\">\n",
       "      <th></th>\n",
       "      <th>timestamp</th>\n",
       "      <th>value</th>\n",
       "      <th>label</th>\n",
       "    </tr>\n",
       "  </thead>\n",
       "  <tbody>\n",
       "    <tr>\n",
       "      <th>count</th>\n",
       "      <td>9.409000e+03</td>\n",
       "      <td>9.409000e+03</td>\n",
       "      <td>9409.000000</td>\n",
       "    </tr>\n",
       "    <tr>\n",
       "      <th>mean</th>\n",
       "      <td>1.493850e+09</td>\n",
       "      <td>2.103866e-15</td>\n",
       "      <td>0.009459</td>\n",
       "    </tr>\n",
       "    <tr>\n",
       "      <th>std</th>\n",
       "      <td>1.629745e+05</td>\n",
       "      <td>1.000000e+00</td>\n",
       "      <td>0.096802</td>\n",
       "    </tr>\n",
       "    <tr>\n",
       "      <th>min</th>\n",
       "      <td>1.493568e+09</td>\n",
       "      <td>-1.822134e+00</td>\n",
       "      <td>0.000000</td>\n",
       "    </tr>\n",
       "    <tr>\n",
       "      <th>25%</th>\n",
       "      <td>1.493709e+09</td>\n",
       "      <td>-8.701940e-01</td>\n",
       "      <td>0.000000</td>\n",
       "    </tr>\n",
       "    <tr>\n",
       "      <th>50%</th>\n",
       "      <td>1.493850e+09</td>\n",
       "      <td>-6.470658e-02</td>\n",
       "      <td>0.000000</td>\n",
       "    </tr>\n",
       "    <tr>\n",
       "      <th>75%</th>\n",
       "      <td>1.493991e+09</td>\n",
       "      <td>7.407809e-01</td>\n",
       "      <td>0.000000</td>\n",
       "    </tr>\n",
       "    <tr>\n",
       "      <th>max</th>\n",
       "      <td>1.494132e+09</td>\n",
       "      <td>8.209846e+00</td>\n",
       "      <td>1.000000</td>\n",
       "    </tr>\n",
       "  </tbody>\n",
       "</table>\n",
       "</div>"
      ],
      "text/plain": [
       "          timestamp         value        label\n",
       "count  9.409000e+03  9.409000e+03  9409.000000\n",
       "mean   1.493850e+09  2.103866e-15     0.009459\n",
       "std    1.629745e+05  1.000000e+00     0.096802\n",
       "min    1.493568e+09 -1.822134e+00     0.000000\n",
       "25%    1.493709e+09 -8.701940e-01     0.000000\n",
       "50%    1.493850e+09 -6.470658e-02     0.000000\n",
       "75%    1.493991e+09  7.407809e-01     0.000000\n",
       "max    1.494132e+09  8.209846e+00     1.000000"
      ]
     },
     "execution_count": 14,
     "metadata": {},
     "output_type": "execute_result"
    }
   ],
   "source": [
    "df_sampled[df_sampled['KPI ID'] == ids[2]].describe()"
   ]
  },
  {
   "cell_type": "code",
   "execution_count": 15,
   "metadata": {},
   "outputs": [],
   "source": [
    "df_sampled.to_csv('../../data/train_sampled_normalized.csv')"
   ]
  },
  {
   "cell_type": "code",
   "execution_count": 3,
   "metadata": {},
   "outputs": [],
   "source": [
    "# Preprocessing using KPI ID wise concat and linear interpolation for values (Variant 2)\n",
    "\n",
    "df['timestamp'] = pd.to_datetime(df['timestamp'], unit = 's')\n",
    "df = df.set_index('timestamp')"
   ]
  },
  {
   "cell_type": "code",
   "execution_count": 4,
   "metadata": {},
   "outputs": [],
   "source": [
    "df_upsampled = pd.DataFrame()\n",
    "for _id in ids:\n",
    "    df_tmp_value = df[df['KPI ID'] == _id]['value']\n",
    "    df_tmp_value_sampled = df_tmp_value.resample('1T').interpolate()\n",
    "    df_tmp_label = df[df['KPI ID'] == _id]['label']\n",
    "    df_tmp_label_sampled = df_tmp_label.resample('1T').ffill()\n",
    "    df_tmp_label_sampled = df_tmp_label_sampled.to_frame('label')\n",
    "    df_tmp_label_sampled.insert(1, 'KPI ID', _id)\n",
    "\n",
    "    df_tmp_final = pd.concat([df_tmp_value_sampled, df_tmp_label_sampled], axis = 1, join='inner')\n",
    "    df_tmp_final['id'] = df_tmp_final['KPI ID'] + '-' + df_tmp_final.index.astype('str') \n",
    "    df_upsampled = pd.concat([df_upsampled, df_tmp_final])\n",
    "\n",
    "df_upsampled = df_upsampled.set_index('id')"
   ]
  },
  {
   "cell_type": "code",
   "execution_count": 5,
   "metadata": {},
   "outputs": [],
   "source": [
    "# normalization\n",
    "for _id in ids:\n",
    "    df_tmp = df_upsampled[df_upsampled['KPI ID'] == _id]['value']\n",
    "    df_upsampled.loc[df_upsampled['KPI ID'] == _id, 'value'] = (df_tmp - df_tmp.mean()) / df_tmp.std()"
   ]
  },
  {
   "cell_type": "code",
   "execution_count": 7,
   "metadata": {},
   "outputs": [],
   "source": [
    "df_upsampled.to_csv('../../data/train_norm_KPIconcat_interpolated.csv')"
   ]
  },
  {
   "cell_type": "code",
   "execution_count": 8,
   "metadata": {},
   "outputs": [
    {
     "data": {
      "text/html": [
       "<div>\n",
       "<style scoped>\n",
       "    .dataframe tbody tr th:only-of-type {\n",
       "        vertical-align: middle;\n",
       "    }\n",
       "\n",
       "    .dataframe tbody tr th {\n",
       "        vertical-align: top;\n",
       "    }\n",
       "\n",
       "    .dataframe thead th {\n",
       "        text-align: right;\n",
       "    }\n",
       "</style>\n",
       "<table border=\"1\" class=\"dataframe\">\n",
       "  <thead>\n",
       "    <tr style=\"text-align: right;\">\n",
       "      <th></th>\n",
       "      <th>value</th>\n",
       "      <th>label</th>\n",
       "    </tr>\n",
       "  </thead>\n",
       "  <tbody>\n",
       "    <tr>\n",
       "      <th>count</th>\n",
       "      <td>2.788680e+06</td>\n",
       "      <td>2.788680e+06</td>\n",
       "    </tr>\n",
       "    <tr>\n",
       "      <th>mean</th>\n",
       "      <td>-1.349294e-15</td>\n",
       "      <td>2.108524e-02</td>\n",
       "    </tr>\n",
       "    <tr>\n",
       "      <th>std</th>\n",
       "      <td>9.999955e-01</td>\n",
       "      <td>1.436686e-01</td>\n",
       "    </tr>\n",
       "    <tr>\n",
       "      <th>min</th>\n",
       "      <td>-5.074012e+00</td>\n",
       "      <td>0.000000e+00</td>\n",
       "    </tr>\n",
       "    <tr>\n",
       "      <th>25%</th>\n",
       "      <td>-6.386425e-01</td>\n",
       "      <td>0.000000e+00</td>\n",
       "    </tr>\n",
       "    <tr>\n",
       "      <th>50%</th>\n",
       "      <td>2.659609e-02</td>\n",
       "      <td>0.000000e+00</td>\n",
       "    </tr>\n",
       "    <tr>\n",
       "      <th>75%</th>\n",
       "      <td>6.515980e-01</td>\n",
       "      <td>0.000000e+00</td>\n",
       "    </tr>\n",
       "    <tr>\n",
       "      <th>max</th>\n",
       "      <td>1.421557e+02</td>\n",
       "      <td>1.000000e+00</td>\n",
       "    </tr>\n",
       "  </tbody>\n",
       "</table>\n",
       "</div>"
      ],
      "text/plain": [
       "              value         label\n",
       "count  2.788680e+06  2.788680e+06\n",
       "mean  -1.349294e-15  2.108524e-02\n",
       "std    9.999955e-01  1.436686e-01\n",
       "min   -5.074012e+00  0.000000e+00\n",
       "25%   -6.386425e-01  0.000000e+00\n",
       "50%    2.659609e-02  0.000000e+00\n",
       "75%    6.515980e-01  0.000000e+00\n",
       "max    1.421557e+02  1.000000e+00"
      ]
     },
     "execution_count": 8,
     "metadata": {},
     "output_type": "execute_result"
    }
   ],
   "source": [
    "df_upsampled.describe()"
   ]
  },
  {
   "cell_type": "code",
   "execution_count": null,
   "metadata": {},
   "outputs": [],
   "source": []
  }
 ],
 "metadata": {
  "kernelspec": {
   "display_name": "Python 3",
   "language": "python",
   "name": "python3"
  },
  "language_info": {
   "codemirror_mode": {
    "name": "ipython",
    "version": 3
   },
   "file_extension": ".py",
   "mimetype": "text/x-python",
   "name": "python",
   "nbconvert_exporter": "python",
   "pygments_lexer": "ipython3",
   "version": "3.5.5"
  }
 },
 "nbformat": 4,
 "nbformat_minor": 2
}
